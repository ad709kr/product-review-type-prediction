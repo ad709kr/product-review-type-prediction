{
 "cells": [
  {
   "cell_type": "markdown",
   "id": "de918d32",
   "metadata": {},
   "source": [
    "## Women's E-Commerce Clothing Reviews\n",
    "\n",
    "<br>**Context**\n",
    "<br>Welcome. This is a Women’s Clothing E-Commerce dataset revolving around the reviews written by customers. Its nine supportive features offer a great environment to parse out the text through its multiple dimensions. Because this is real commercial data, it has been anonymized, and references to the company in the review text and body have been replaced with “retailer”.\n",
    "\n",
    "<br>**Content**\n",
    "<br>This dataset includes 23486 rows and 10 feature variables. Each row corresponds to a customer review, and includes the variables:\n",
    "\n",
    "<br>Clothing ID: Integer Categorical variable that refers to the specific piece being reviewed.\n",
    "<br>Age: Positive Integer variable of the reviewers age.\n",
    "<br>Title: String variable for the title of the review.\n",
    "<br>Review Text: String variable for the review body.\n",
    "<br>Rating: Positive Ordinal Integer variable for the product score granted by the customer from 1 Worst, to 5 Best.\n",
    "<br>Recommended IND: Binary variable stating where the customer recommends the product where 1 is recommended, 0 is not recommended.\n",
    "<br>Positive Feedback Count: Positive Integer documenting the number of other customers who found this review positive.\n",
    "<br>Division Name: Categorical name of the product high level division.\n",
    "<br><br>Department Name: Categorical name of the product department name.\n",
    "<br>Class Name: Categorical name of the product class name.\n",
    "\n",
    "## source :    \n",
    "Data and the above description are from kaggle:https://www.kaggle.com/datasets/nicapotato/womens-ecommerce-clothing-reviews?resource=download"
   ]
  },
  {
   "cell_type": "markdown",
   "id": "b7d10a33",
   "metadata": {},
   "source": [
    "## Problem Statement :\n",
    "<br> Given the Description about the product and reviews predict the ratings given are either positive and negative."
   ]
  },
  {
   "cell_type": "markdown",
   "id": "345dc6f1",
   "metadata": {},
   "source": [
    "## Performace metrics:\n",
    "<br> we will use confusion matrix and roc_aus as performance metric"
   ]
  },
  {
   "cell_type": "code",
   "execution_count": 326,
   "id": "c9fe2403",
   "metadata": {},
   "outputs": [],
   "source": [
    "#importing libraries\n",
    "import warnings\n",
    "warnings.filterwarnings(\"ignore\")\n",
    "\n",
    "import pandas as pd\n",
    "import numpy as np\n",
    "import matplotlib.pyplot as plt\n",
    "import seaborn as sns\n",
    "\n",
    "from nltk.corpus import stopwords\n",
    "from nltk.stem import PorterStemmer\n",
    "from sklearn.model_selection import train_test_split\n",
    "from sklearn.preprocessing import MinMaxScaler\n",
    "\n",
    "from sklearn.linear_model import LogisticRegression\n",
    "from sklearn.model_selection import GridSearchCV\n",
    "from sklearn.metrics import roc_curve, auc\n",
    "from sklearn.metrics import confusion_matrix\n",
    "from sklearn.tree import DecisionTreeClassifier\n",
    "from sklearn.ensemble import RandomForestClassifier\n",
    "from xgboost import XGBClassifier"
   ]
  },
  {
   "cell_type": "markdown",
   "id": "653a690d",
   "metadata": {},
   "source": [
    "**Data Reading and wrangling** \n"
   ]
  },
  {
   "cell_type": "code",
   "execution_count": 327,
   "id": "ad6d7d63",
   "metadata": {},
   "outputs": [
    {
     "data": {
      "text/html": [
       "<div>\n",
       "<style scoped>\n",
       "    .dataframe tbody tr th:only-of-type {\n",
       "        vertical-align: middle;\n",
       "    }\n",
       "\n",
       "    .dataframe tbody tr th {\n",
       "        vertical-align: top;\n",
       "    }\n",
       "\n",
       "    .dataframe thead th {\n",
       "        text-align: right;\n",
       "    }\n",
       "</style>\n",
       "<table border=\"1\" class=\"dataframe\">\n",
       "  <thead>\n",
       "    <tr style=\"text-align: right;\">\n",
       "      <th></th>\n",
       "      <th>Unnamed: 0</th>\n",
       "      <th>Clothing ID</th>\n",
       "      <th>Age</th>\n",
       "      <th>Title</th>\n",
       "      <th>Review Text</th>\n",
       "      <th>Rating</th>\n",
       "      <th>Recommended IND</th>\n",
       "      <th>Positive Feedback Count</th>\n",
       "      <th>Division Name</th>\n",
       "      <th>Department Name</th>\n",
       "      <th>Class Name</th>\n",
       "    </tr>\n",
       "  </thead>\n",
       "  <tbody>\n",
       "    <tr>\n",
       "      <th>0</th>\n",
       "      <td>0</td>\n",
       "      <td>767</td>\n",
       "      <td>33</td>\n",
       "      <td>NaN</td>\n",
       "      <td>Absolutely wonderful - silky and sexy and comf...</td>\n",
       "      <td>4</td>\n",
       "      <td>1</td>\n",
       "      <td>0</td>\n",
       "      <td>Initmates</td>\n",
       "      <td>Intimate</td>\n",
       "      <td>Intimates</td>\n",
       "    </tr>\n",
       "    <tr>\n",
       "      <th>1</th>\n",
       "      <td>1</td>\n",
       "      <td>1080</td>\n",
       "      <td>34</td>\n",
       "      <td>NaN</td>\n",
       "      <td>Love this dress!  it's sooo pretty.  i happene...</td>\n",
       "      <td>5</td>\n",
       "      <td>1</td>\n",
       "      <td>4</td>\n",
       "      <td>General</td>\n",
       "      <td>Dresses</td>\n",
       "      <td>Dresses</td>\n",
       "    </tr>\n",
       "    <tr>\n",
       "      <th>2</th>\n",
       "      <td>2</td>\n",
       "      <td>1077</td>\n",
       "      <td>60</td>\n",
       "      <td>Some major design flaws</td>\n",
       "      <td>I had such high hopes for this dress and reall...</td>\n",
       "      <td>3</td>\n",
       "      <td>0</td>\n",
       "      <td>0</td>\n",
       "      <td>General</td>\n",
       "      <td>Dresses</td>\n",
       "      <td>Dresses</td>\n",
       "    </tr>\n",
       "    <tr>\n",
       "      <th>3</th>\n",
       "      <td>3</td>\n",
       "      <td>1049</td>\n",
       "      <td>50</td>\n",
       "      <td>My favorite buy!</td>\n",
       "      <td>I love, love, love this jumpsuit. it's fun, fl...</td>\n",
       "      <td>5</td>\n",
       "      <td>1</td>\n",
       "      <td>0</td>\n",
       "      <td>General Petite</td>\n",
       "      <td>Bottoms</td>\n",
       "      <td>Pants</td>\n",
       "    </tr>\n",
       "    <tr>\n",
       "      <th>4</th>\n",
       "      <td>4</td>\n",
       "      <td>847</td>\n",
       "      <td>47</td>\n",
       "      <td>Flattering shirt</td>\n",
       "      <td>This shirt is very flattering to all due to th...</td>\n",
       "      <td>5</td>\n",
       "      <td>1</td>\n",
       "      <td>6</td>\n",
       "      <td>General</td>\n",
       "      <td>Tops</td>\n",
       "      <td>Blouses</td>\n",
       "    </tr>\n",
       "  </tbody>\n",
       "</table>\n",
       "</div>"
      ],
      "text/plain": [
       "   Unnamed: 0  Clothing ID  Age                    Title  \\\n",
       "0           0          767   33                      NaN   \n",
       "1           1         1080   34                      NaN   \n",
       "2           2         1077   60  Some major design flaws   \n",
       "3           3         1049   50         My favorite buy!   \n",
       "4           4          847   47         Flattering shirt   \n",
       "\n",
       "                                         Review Text  Rating  Recommended IND  \\\n",
       "0  Absolutely wonderful - silky and sexy and comf...       4                1   \n",
       "1  Love this dress!  it's sooo pretty.  i happene...       5                1   \n",
       "2  I had such high hopes for this dress and reall...       3                0   \n",
       "3  I love, love, love this jumpsuit. it's fun, fl...       5                1   \n",
       "4  This shirt is very flattering to all due to th...       5                1   \n",
       "\n",
       "   Positive Feedback Count   Division Name Department Name Class Name  \n",
       "0                        0       Initmates        Intimate  Intimates  \n",
       "1                        4         General         Dresses    Dresses  \n",
       "2                        0         General         Dresses    Dresses  \n",
       "3                        0  General Petite         Bottoms      Pants  \n",
       "4                        6         General            Tops    Blouses  "
      ]
     },
     "execution_count": 327,
     "metadata": {},
     "output_type": "execute_result"
    }
   ],
   "source": [
    "df = pd.read_csv(\"Womens Clothing E-Commerce Reviews.csv\")\n",
    "df.head()"
   ]
  },
  {
   "cell_type": "code",
   "execution_count": 328,
   "id": "ab4aa7e5",
   "metadata": {},
   "outputs": [
    {
     "data": {
      "text/plain": [
       "(23486, 11)"
      ]
     },
     "execution_count": 328,
     "metadata": {},
     "output_type": "execute_result"
    }
   ],
   "source": [
    "df.shape"
   ]
  },
  {
   "cell_type": "code",
   "execution_count": 329,
   "id": "580bae08",
   "metadata": {},
   "outputs": [
    {
     "data": {
      "text/plain": [
       "Index(['Unnamed: 0', 'Clothing ID', 'Age', 'Title', 'Review Text', 'Rating',\n",
       "       'Recommended IND', 'Positive Feedback Count', 'Division Name',\n",
       "       'Department Name', 'Class Name'],\n",
       "      dtype='object')"
      ]
     },
     "execution_count": 329,
     "metadata": {},
     "output_type": "execute_result"
    }
   ],
   "source": [
    "df.columns"
   ]
  },
  {
   "cell_type": "code",
   "execution_count": 330,
   "id": "15ccd9da",
   "metadata": {},
   "outputs": [],
   "source": [
    "# There is no column Unnamed:0 in data dictionary and by looking it seems like an id so lets drop this column\n",
    "df = df.drop(['Unnamed: 0'],axis=1)"
   ]
  },
  {
   "cell_type": "code",
   "execution_count": 331,
   "id": "eeb18287",
   "metadata": {},
   "outputs": [],
   "source": [
    "## since we are just trying to classify review as positive or negative so we will drop the rows having the Ratings =3\n",
    "data = df[df['Rating']!=3]"
   ]
  },
  {
   "cell_type": "code",
   "execution_count": 332,
   "id": "09a795a3",
   "metadata": {},
   "outputs": [
    {
     "data": {
      "text/plain": [
       "(20615, 10)"
      ]
     },
     "execution_count": 332,
     "metadata": {},
     "output_type": "execute_result"
    }
   ],
   "source": [
    "data.shape"
   ]
  },
  {
   "cell_type": "code",
   "execution_count": 333,
   "id": "8f8ddc12",
   "metadata": {},
   "outputs": [],
   "source": [
    "# Lets encode the reviews as positive and negative\n",
    "def pos_neg_reviews(rating):\n",
    "    if rating>=4:\n",
    "        return 1 # encoding 1-positive and 0-negative\n",
    "    elif rating <= 2:\n",
    "        return  0"
   ]
  },
  {
   "cell_type": "code",
   "execution_count": 334,
   "id": "dc5d5cd9",
   "metadata": {},
   "outputs": [],
   "source": [
    "data['labels'] = data['Rating'].apply(lambda x:pos_neg_reviews(x))"
   ]
  },
  {
   "cell_type": "code",
   "execution_count": 335,
   "id": "0ff9411b",
   "metadata": {},
   "outputs": [
    {
     "data": {
      "text/html": [
       "<div>\n",
       "<style scoped>\n",
       "    .dataframe tbody tr th:only-of-type {\n",
       "        vertical-align: middle;\n",
       "    }\n",
       "\n",
       "    .dataframe tbody tr th {\n",
       "        vertical-align: top;\n",
       "    }\n",
       "\n",
       "    .dataframe thead th {\n",
       "        text-align: right;\n",
       "    }\n",
       "</style>\n",
       "<table border=\"1\" class=\"dataframe\">\n",
       "  <thead>\n",
       "    <tr style=\"text-align: right;\">\n",
       "      <th></th>\n",
       "      <th>Clothing ID</th>\n",
       "      <th>Age</th>\n",
       "      <th>Title</th>\n",
       "      <th>Review Text</th>\n",
       "      <th>Rating</th>\n",
       "      <th>Recommended IND</th>\n",
       "      <th>Positive Feedback Count</th>\n",
       "      <th>Division Name</th>\n",
       "      <th>Department Name</th>\n",
       "      <th>Class Name</th>\n",
       "      <th>labels</th>\n",
       "    </tr>\n",
       "  </thead>\n",
       "  <tbody>\n",
       "    <tr>\n",
       "      <th>0</th>\n",
       "      <td>767</td>\n",
       "      <td>33</td>\n",
       "      <td>NaN</td>\n",
       "      <td>Absolutely wonderful - silky and sexy and comf...</td>\n",
       "      <td>4</td>\n",
       "      <td>1</td>\n",
       "      <td>0</td>\n",
       "      <td>Initmates</td>\n",
       "      <td>Intimate</td>\n",
       "      <td>Intimates</td>\n",
       "      <td>1</td>\n",
       "    </tr>\n",
       "    <tr>\n",
       "      <th>1</th>\n",
       "      <td>1080</td>\n",
       "      <td>34</td>\n",
       "      <td>NaN</td>\n",
       "      <td>Love this dress!  it's sooo pretty.  i happene...</td>\n",
       "      <td>5</td>\n",
       "      <td>1</td>\n",
       "      <td>4</td>\n",
       "      <td>General</td>\n",
       "      <td>Dresses</td>\n",
       "      <td>Dresses</td>\n",
       "      <td>1</td>\n",
       "    </tr>\n",
       "    <tr>\n",
       "      <th>3</th>\n",
       "      <td>1049</td>\n",
       "      <td>50</td>\n",
       "      <td>My favorite buy!</td>\n",
       "      <td>I love, love, love this jumpsuit. it's fun, fl...</td>\n",
       "      <td>5</td>\n",
       "      <td>1</td>\n",
       "      <td>0</td>\n",
       "      <td>General Petite</td>\n",
       "      <td>Bottoms</td>\n",
       "      <td>Pants</td>\n",
       "      <td>1</td>\n",
       "    </tr>\n",
       "    <tr>\n",
       "      <th>4</th>\n",
       "      <td>847</td>\n",
       "      <td>47</td>\n",
       "      <td>Flattering shirt</td>\n",
       "      <td>This shirt is very flattering to all due to th...</td>\n",
       "      <td>5</td>\n",
       "      <td>1</td>\n",
       "      <td>6</td>\n",
       "      <td>General</td>\n",
       "      <td>Tops</td>\n",
       "      <td>Blouses</td>\n",
       "      <td>1</td>\n",
       "    </tr>\n",
       "    <tr>\n",
       "      <th>5</th>\n",
       "      <td>1080</td>\n",
       "      <td>49</td>\n",
       "      <td>Not for the very petite</td>\n",
       "      <td>I love tracy reese dresses, but this one is no...</td>\n",
       "      <td>2</td>\n",
       "      <td>0</td>\n",
       "      <td>4</td>\n",
       "      <td>General</td>\n",
       "      <td>Dresses</td>\n",
       "      <td>Dresses</td>\n",
       "      <td>0</td>\n",
       "    </tr>\n",
       "  </tbody>\n",
       "</table>\n",
       "</div>"
      ],
      "text/plain": [
       "   Clothing ID  Age                    Title  \\\n",
       "0          767   33                      NaN   \n",
       "1         1080   34                      NaN   \n",
       "3         1049   50         My favorite buy!   \n",
       "4          847   47         Flattering shirt   \n",
       "5         1080   49  Not for the very petite   \n",
       "\n",
       "                                         Review Text  Rating  Recommended IND  \\\n",
       "0  Absolutely wonderful - silky and sexy and comf...       4                1   \n",
       "1  Love this dress!  it's sooo pretty.  i happene...       5                1   \n",
       "3  I love, love, love this jumpsuit. it's fun, fl...       5                1   \n",
       "4  This shirt is very flattering to all due to th...       5                1   \n",
       "5  I love tracy reese dresses, but this one is no...       2                0   \n",
       "\n",
       "   Positive Feedback Count   Division Name Department Name Class Name  labels  \n",
       "0                        0       Initmates        Intimate  Intimates       1  \n",
       "1                        4         General         Dresses    Dresses       1  \n",
       "3                        0  General Petite         Bottoms      Pants       1  \n",
       "4                        6         General            Tops    Blouses       1  \n",
       "5                        4         General         Dresses    Dresses       0  "
      ]
     },
     "execution_count": 335,
     "metadata": {},
     "output_type": "execute_result"
    }
   ],
   "source": [
    "data.head()"
   ]
  },
  {
   "cell_type": "code",
   "execution_count": 336,
   "id": "3a718202",
   "metadata": {},
   "outputs": [],
   "source": [
    "data.drop(['Rating'], axis=1,inplace =True)"
   ]
  },
  {
   "cell_type": "code",
   "execution_count": 337,
   "id": "370bb74c",
   "metadata": {},
   "outputs": [],
   "source": [
    "# dropping the Clothing ID column\n",
    "data.drop(['Clothing ID'],axis=1, inplace=True)"
   ]
  },
  {
   "cell_type": "code",
   "execution_count": 338,
   "id": "ef43877f",
   "metadata": {},
   "outputs": [
    {
     "name": "stdout",
     "output_type": "stream",
     "text": [
      "<class 'pandas.core.frame.DataFrame'>\n",
      "Int64Index: 20615 entries, 0 to 23485\n",
      "Data columns (total 9 columns):\n",
      " #   Column                   Non-Null Count  Dtype \n",
      "---  ------                   --------------  ----- \n",
      " 0   Age                      20615 non-null  int64 \n",
      " 1   Title                    17212 non-null  object\n",
      " 2   Review Text              19818 non-null  object\n",
      " 3   Recommended IND          20615 non-null  int64 \n",
      " 4   Positive Feedback Count  20615 non-null  int64 \n",
      " 5   Division Name            20601 non-null  object\n",
      " 6   Department Name          20601 non-null  object\n",
      " 7   Class Name               20601 non-null  object\n",
      " 8   labels                   20615 non-null  int64 \n",
      "dtypes: int64(4), object(5)\n",
      "memory usage: 1.6+ MB\n"
     ]
    }
   ],
   "source": [
    "data.info()"
   ]
  },
  {
   "cell_type": "code",
   "execution_count": 339,
   "id": "ec3b8104",
   "metadata": {},
   "outputs": [
    {
     "name": "stdout",
     "output_type": "stream",
     "text": [
      "The final shape of data is (20615, 9)\n"
     ]
    }
   ],
   "source": [
    "# final data shape is\n",
    "print(\"The final shape of data is\",data.shape)"
   ]
  },
  {
   "cell_type": "markdown",
   "id": "e2b48888",
   "metadata": {},
   "source": [
    "out of the 8 features, 3 is of int type,5 of object type. And out of these 5 object type, we have title, review is of text feature and rest 3 is categorical feature. "
   ]
  },
  {
   "cell_type": "markdown",
   "id": "33492622",
   "metadata": {},
   "source": [
    "## Data Cleaning"
   ]
  },
  {
   "cell_type": "code",
   "execution_count": 340,
   "id": "605cc311",
   "metadata": {},
   "outputs": [
    {
     "data": {
      "text/plain": [
       "Age                           0\n",
       "Title                      3403\n",
       "Review Text                 797\n",
       "Recommended IND               0\n",
       "Positive Feedback Count       0\n",
       "Division Name                14\n",
       "Department Name              14\n",
       "Class Name                   14\n",
       "labels                        0\n",
       "dtype: int64"
      ]
     },
     "execution_count": 340,
     "metadata": {},
     "output_type": "execute_result"
    }
   ],
   "source": [
    "# checking if there is null values\n",
    "data.isnull().sum()"
   ]
  },
  {
   "cell_type": "markdown",
   "id": "6e3aaf2f",
   "metadata": {},
   "source": [
    "(1) Since the main goal is to predict review sentiment based on the review text and in 797 categories we have no review text so we will simply drop those rows.\n",
    "<br> (2) we have 3403 null value in the title, so will simply create a title name as none and fill it with that\n",
    "<br> (3) since Division name ,Department Name, Class Name are categorical in nature, we will impute using most frequent category."
   ]
  },
  {
   "cell_type": "code",
   "execution_count": 341,
   "id": "a03d3aaa",
   "metadata": {},
   "outputs": [],
   "source": [
    "# filling the title Nan value with none string\n",
    "data['Title'].fillna('none',inplace=True)"
   ]
  },
  {
   "cell_type": "code",
   "execution_count": 342,
   "id": "97d88e11",
   "metadata": {},
   "outputs": [
    {
     "data": {
      "text/plain": [
       "General           12077\n",
       "General Petite     7177\n",
       "Initmates          1347\n",
       "Name: Division Name, dtype: int64"
      ]
     },
     "execution_count": 342,
     "metadata": {},
     "output_type": "execute_result"
    }
   ],
   "source": [
    "data['Division Name'].value_counts()"
   ]
  },
  {
   "cell_type": "code",
   "execution_count": 343,
   "id": "1e5490fd",
   "metadata": {},
   "outputs": [],
   "source": [
    "# since the maximum frequency of the Division Name is General, so we will impute the null value with general\n",
    "data['Division Name'].fillna('General',inplace=True)"
   ]
  },
  {
   "cell_type": "code",
   "execution_count": 344,
   "id": "e16ac106",
   "metadata": {},
   "outputs": [
    {
     "data": {
      "text/plain": [
       "Tops        9144\n",
       "Dresses     5481\n",
       "Bottoms     3378\n",
       "Intimate    1557\n",
       "Jackets      941\n",
       "Trend        100\n",
       "Name: Department Name, dtype: int64"
      ]
     },
     "execution_count": 344,
     "metadata": {},
     "output_type": "execute_result"
    }
   ],
   "source": [
    "data['Department Name'].value_counts()"
   ]
  },
  {
   "cell_type": "code",
   "execution_count": 345,
   "id": "6bdee137",
   "metadata": {},
   "outputs": [],
   "source": [
    "# since the maximum frequency of the Department Name is Tops , so we will impute the null value with general\n",
    "data['Department Name'].fillna('Tops',inplace=True)"
   ]
  },
  {
   "cell_type": "code",
   "execution_count": 346,
   "id": "b153efaf",
   "metadata": {},
   "outputs": [
    {
     "data": {
      "text/plain": [
       "Dresses           5481\n",
       "Knits             4227\n",
       "Blouses           2703\n",
       "Sweaters          1233\n",
       "Pants             1231\n",
       "Jeans             1032\n",
       "Fine gauge         981\n",
       "Skirts             837\n",
       "Jackets            642\n",
       "Lounge             613\n",
       "Swim               308\n",
       "Outerwear          299\n",
       "Shorts             276\n",
       "Sleep              211\n",
       "Legwear            149\n",
       "Intimates          138\n",
       "Layering           137\n",
       "Trend              100\n",
       "Casual bottoms       2\n",
       "Chemises             1\n",
       "Name: Class Name, dtype: int64"
      ]
     },
     "execution_count": 346,
     "metadata": {},
     "output_type": "execute_result"
    }
   ],
   "source": [
    "data['Class Name'].value_counts()"
   ]
  },
  {
   "cell_type": "code",
   "execution_count": 347,
   "id": "467b9734",
   "metadata": {},
   "outputs": [],
   "source": [
    "# since the maximum frequency of the Class Name is Dresses , so we will impute the null value with general\n",
    "data['Class Name'].fillna('Dresses',inplace=True)"
   ]
  },
  {
   "cell_type": "code",
   "execution_count": 348,
   "id": "b0eedd4e",
   "metadata": {},
   "outputs": [
    {
     "data": {
      "text/plain": [
       "Age                          0\n",
       "Title                        0\n",
       "Review Text                797\n",
       "Recommended IND              0\n",
       "Positive Feedback Count      0\n",
       "Division Name                0\n",
       "Department Name              0\n",
       "Class Name                   0\n",
       "labels                       0\n",
       "dtype: int64"
      ]
     },
     "execution_count": 348,
     "metadata": {},
     "output_type": "execute_result"
    }
   ],
   "source": [
    "data.isnull().sum()"
   ]
  },
  {
   "cell_type": "code",
   "execution_count": 349,
   "id": "24f934a7",
   "metadata": {},
   "outputs": [],
   "source": [
    "# since we have imputed all the other features except the review text, we will drop the rows having no review text.\n",
    "data.dropna(how='any',axis=0,inplace = True)"
   ]
  },
  {
   "cell_type": "code",
   "execution_count": 350,
   "id": "d0fd88ed",
   "metadata": {},
   "outputs": [
    {
     "data": {
      "text/plain": [
       "(19818, 9)"
      ]
     },
     "execution_count": 350,
     "metadata": {},
     "output_type": "execute_result"
    }
   ],
   "source": [
    "data.shape"
   ]
  },
  {
   "cell_type": "code",
   "execution_count": 351,
   "id": "f79d3ee8",
   "metadata": {},
   "outputs": [
    {
     "data": {
      "text/plain": [
       "Age                        0\n",
       "Title                      0\n",
       "Review Text                0\n",
       "Recommended IND            0\n",
       "Positive Feedback Count    0\n",
       "Division Name              0\n",
       "Department Name            0\n",
       "Class Name                 0\n",
       "labels                     0\n",
       "dtype: int64"
      ]
     },
     "execution_count": 351,
     "metadata": {},
     "output_type": "execute_result"
    }
   ],
   "source": [
    "data.isnull().sum()"
   ]
  },
  {
   "cell_type": "markdown",
   "id": "abfe399c",
   "metadata": {},
   "source": [
    "**Checking duplicates**"
   ]
  },
  {
   "cell_type": "code",
   "execution_count": 352,
   "id": "eddcd210",
   "metadata": {},
   "outputs": [
    {
     "data": {
      "text/plain": [
       "Clothing ID                21\n",
       "Age                        21\n",
       "Title                       0\n",
       "Review Text                 1\n",
       "Rating                     21\n",
       "Recommended IND            21\n",
       "Positive Feedback Count    21\n",
       "Division Name              21\n",
       "Department Name            21\n",
       "Class Name                 21\n",
       "dtype: int64"
      ]
     },
     "execution_count": 352,
     "metadata": {},
     "output_type": "execute_result"
    }
   ],
   "source": [
    "df[df.duplicated()].count()"
   ]
  },
  {
   "cell_type": "code",
   "execution_count": 353,
   "id": "7216f3fb",
   "metadata": {},
   "outputs": [],
   "source": [
    "# since there are duplicates present lets drop\n",
    "data.drop_duplicates(inplace=True)"
   ]
  },
  {
   "cell_type": "code",
   "execution_count": 354,
   "id": "5680ea4d",
   "metadata": {},
   "outputs": [
    {
     "data": {
      "text/plain": [
       "(19816, 9)"
      ]
     },
     "execution_count": 354,
     "metadata": {},
     "output_type": "execute_result"
    }
   ],
   "source": [
    "data.shape"
   ]
  },
  {
   "cell_type": "markdown",
   "id": "50bf2526",
   "metadata": {},
   "source": [
    "After imputation and removing duplicates, lets perform some exploratory data analysis."
   ]
  },
  {
   "cell_type": "markdown",
   "id": "f266e0ee",
   "metadata": {},
   "source": [
    "## Exploratory data analysis"
   ]
  },
  {
   "cell_type": "markdown",
   "id": "09a9eff7",
   "metadata": {},
   "source": [
    "**1. Univariate analysis**"
   ]
  },
  {
   "cell_type": "code",
   "execution_count": 355,
   "id": "6af03bb8",
   "metadata": {},
   "outputs": [
    {
     "data": {
      "text/plain": [
       "Index(['Age', 'Title', 'Review Text', 'Recommended IND',\n",
       "       'Positive Feedback Count', 'Division Name', 'Department Name',\n",
       "       'Class Name', 'labels'],\n",
       "      dtype='object')"
      ]
     },
     "execution_count": 355,
     "metadata": {},
     "output_type": "execute_result"
    }
   ],
   "source": [
    "data.columns"
   ]
  },
  {
   "cell_type": "markdown",
   "id": "aa38b578",
   "metadata": {},
   "source": [
    "**labels**\n",
    "<br> since labels are the target variable."
   ]
  },
  {
   "cell_type": "code",
   "execution_count": 356,
   "id": "da1623a8",
   "metadata": {},
   "outputs": [
    {
     "data": {
      "text/plain": [
       "<matplotlib.axes._subplots.AxesSubplot at 0x249b383bc50>"
      ]
     },
     "execution_count": 356,
     "metadata": {},
     "output_type": "execute_result"
    },
    {
     "data": {
      "image/png": "[encoded data removed]",
      "text/plain": [
       "<Figure size 432x288 with 1 Axes>"
      ]
     },
     "metadata": {
      "needs_background": "light"
     },
     "output_type": "display_data"
    }
   ],
   "source": [
    "sns.countplot(data['labels'])"
   ]
  },
  {
   "cell_type": "code",
   "execution_count": 357,
   "id": "0917f619",
   "metadata": {},
   "outputs": [
    {
     "data": {
      "text/plain": [
       "1    17446\n",
       "0     2370\n",
       "Name: labels, dtype: int64"
      ]
     },
     "execution_count": 357,
     "metadata": {},
     "output_type": "execute_result"
    }
   ],
   "source": [
    "data['labels'].value_counts()"
   ]
  },
  {
   "cell_type": "markdown",
   "id": "9bbb6a5d",
   "metadata": {},
   "source": [
    "**Inference:** Imbalanced dataset having most of the reviews are positive."
   ]
  },
  {
   "cell_type": "markdown",
   "id": "6f221037",
   "metadata": {},
   "source": [
    "**Age**"
   ]
  },
  {
   "cell_type": "code",
   "execution_count": 358,
   "id": "3a540fe8",
   "metadata": {},
   "outputs": [
    {
     "data": {
      "text/plain": [
       "<matplotlib.axes._subplots.AxesSubplot at 0x249b39ba278>"
      ]
     },
     "execution_count": 358,
     "metadata": {},
     "output_type": "execute_result"
    },
    {
     "data": {
      "image/png": "[encoded data removed]",
      "text/plain": [
       "<Figure size 432x288 with 1 Axes>"
      ]
     },
     "metadata": {
      "needs_background": "light"
     },
     "output_type": "display_data"
    }
   ],
   "source": [
    "sns.boxplot(data['Age'])"
   ]
  },
  {
   "cell_type": "code",
   "execution_count": 359,
   "id": "398a354d",
   "metadata": {},
   "outputs": [
    {
     "data": {
      "text/plain": [
       "count    19816.000000\n",
       "mean        43.440704\n",
       "std         12.396092\n",
       "min         18.000000\n",
       "25%         34.000000\n",
       "50%         41.000000\n",
       "75%         52.000000\n",
       "max         99.000000\n",
       "Name: Age, dtype: float64"
      ]
     },
     "execution_count": 359,
     "metadata": {},
     "output_type": "execute_result"
    }
   ],
   "source": [
    "data['Age'].describe()"
   ]
  },
  {
   "cell_type": "markdown",
   "id": "afa1bdf8",
   "metadata": {},
   "source": [
    "The age of the customer ranges from the 18 to 99 years, however the central 50% range is 34 to 52"
   ]
  },
  {
   "cell_type": "code",
   "execution_count": 360,
   "id": "d652be74",
   "metadata": {},
   "outputs": [
    {
     "name": "stdout",
     "output_type": "stream",
     "text": [
      "The total reviews given by the customer whose age is greater than 79 is 102\n"
     ]
    }
   ],
   "source": [
    "count = 0\n",
    "for ele in data['Age']:\n",
    "    if ele > 79:\n",
    "        count += 1\n",
    "print(\"The total reviews given by the customer whose age is greater than 79 is\", count)"
   ]
  },
  {
   "cell_type": "markdown",
   "id": "2e650262",
   "metadata": {},
   "source": [
    "**Recommended IND**"
   ]
  },
  {
   "cell_type": "code",
   "execution_count": 361,
   "id": "ec750a8c",
   "metadata": {},
   "outputs": [
    {
     "data": {
      "text/plain": [
       "1    17368\n",
       "0     2448\n",
       "Name: Recommended IND, dtype: int64"
      ]
     },
     "execution_count": 361,
     "metadata": {},
     "output_type": "execute_result"
    }
   ],
   "source": [
    "data['Recommended IND'].value_counts()"
   ]
  },
  {
   "cell_type": "code",
   "execution_count": 362,
   "id": "9fb757de",
   "metadata": {},
   "outputs": [
    {
     "data": {
      "text/plain": [
       "<matplotlib.axes._subplots.AxesSubplot at 0x249b4a1fbe0>"
      ]
     },
     "execution_count": 362,
     "metadata": {},
     "output_type": "execute_result"
    },
    {
     "data": {
      "image/png": "[encoded data removed]",
      "text/plain": [
       "<Figure size 432x288 with 1 Axes>"
      ]
     },
     "metadata": {
      "needs_background": "light"
     },
     "output_type": "display_data"
    }
   ],
   "source": [
    "sns.countplot(data['Recommended IND'])"
   ]
  },
  {
   "cell_type": "markdown",
   "id": "5068cdb0",
   "metadata": {},
   "source": [
    "**Inference:** Most of the product are recommended by the users"
   ]
  },
  {
   "cell_type": "markdown",
   "id": "4d308048",
   "metadata": {},
   "source": [
    "**Positive Feedback Count**"
   ]
  },
  {
   "cell_type": "code",
   "execution_count": 363,
   "id": "3fecad97",
   "metadata": {},
   "outputs": [
    {
     "data": {
      "text/plain": [
       "<matplotlib.axes._subplots.AxesSubplot at 0x249b4a70940>"
      ]
     },
     "execution_count": 363,
     "metadata": {},
     "output_type": "execute_result"
    },
    {
     "data": {
      "image/png": "[encoded data removed]",
      "text/plain": [
       "<Figure size 432x288 with 1 Axes>"
      ]
     },
     "metadata": {
      "needs_background": "light"
     },
     "output_type": "display_data"
    }
   ],
   "source": [
    "sns.boxplot(data['Positive Feedback Count'])"
   ]
  },
  {
   "cell_type": "markdown",
   "id": "f4e45cd2",
   "metadata": {},
   "source": [
    "**Inference:** Some reviews are found helpful by many users,but however this is not the case for all."
   ]
  },
  {
   "cell_type": "markdown",
   "id": "142c4cb9",
   "metadata": {},
   "source": [
    "**Division Name**"
   ]
  },
  {
   "cell_type": "code",
   "execution_count": 364,
   "id": "2adf0d0f",
   "metadata": {},
   "outputs": [
    {
     "data": {
      "text/plain": [
       "General           11637\n",
       "General Petite     6908\n",
       "Initmates          1271\n",
       "Name: Division Name, dtype: int64"
      ]
     },
     "execution_count": 364,
     "metadata": {},
     "output_type": "execute_result"
    }
   ],
   "source": [
    "data['Division Name'].value_counts()"
   ]
  },
  {
   "cell_type": "code",
   "execution_count": 365,
   "id": "44eabd37",
   "metadata": {},
   "outputs": [
    {
     "data": {
      "text/plain": [
       "<matplotlib.axes._subplots.AxesSubplot at 0x249b4ace208>"
      ]
     },
     "execution_count": 365,
     "metadata": {},
     "output_type": "execute_result"
    },
    {
     "data": {
      "image/png": "[encoded data removed]",
      "text/plain": [
       "<Figure size 432x288 with 1 Axes>"
      ]
     },
     "metadata": {
      "needs_background": "light"
     },
     "output_type": "display_data"
    }
   ],
   "source": [
    "sns.countplot(data['Division Name'])"
   ]
  },
  {
   "cell_type": "markdown",
   "id": "38d85d9d",
   "metadata": {},
   "source": [
    "**Inference:** General devision have the maximum review however initmates have the minimum. "
   ]
  },
  {
   "cell_type": "markdown",
   "id": "755927fa",
   "metadata": {},
   "source": [
    "**Department Name**"
   ]
  },
  {
   "cell_type": "code",
   "execution_count": 366,
   "id": "94253acc",
   "metadata": {},
   "outputs": [
    {
     "data": {
      "text/plain": [
       "Tops        8761\n",
       "Dresses     5315\n",
       "Bottoms     3254\n",
       "Intimate    1475\n",
       "Jackets      912\n",
       "Trend         99\n",
       "Name: Department Name, dtype: int64"
      ]
     },
     "execution_count": 366,
     "metadata": {},
     "output_type": "execute_result"
    }
   ],
   "source": [
    "data['Department Name'].value_counts()"
   ]
  },
  {
   "cell_type": "code",
   "execution_count": 367,
   "id": "fbfaeed6",
   "metadata": {},
   "outputs": [
    {
     "data": {
      "text/plain": [
       "<matplotlib.axes._subplots.AxesSubplot at 0x249b4b21ac8>"
      ]
     },
     "execution_count": 367,
     "metadata": {},
     "output_type": "execute_result"
    },
    {
     "data": {
      "image/png": "[encoded data removed]",
      "text/plain": [
       "<Figure size 432x288 with 1 Axes>"
      ]
     },
     "metadata": {
      "needs_background": "light"
     },
     "output_type": "display_data"
    }
   ],
   "source": [
    "sns.countplot(data['Department Name'])"
   ]
  },
  {
   "cell_type": "markdown",
   "id": "3bc74c34",
   "metadata": {},
   "source": [
    "**Inference:** we have total 5 departments, out of which top has gotten the maximum review and trend has minimum."
   ]
  },
  {
   "cell_type": "markdown",
   "id": "06467772",
   "metadata": {},
   "source": [
    "**Class Name**"
   ]
  },
  {
   "cell_type": "code",
   "execution_count": 368,
   "id": "050cfd27",
   "metadata": {},
   "outputs": [
    {
     "data": {
      "text/plain": [
       "Dresses           5328\n",
       "Knits             4021\n",
       "Blouses           2599\n",
       "Pants             1196\n",
       "Sweaters          1187\n",
       "Jeans              993\n",
       "Fine gauge         941\n",
       "Skirts             799\n",
       "Jackets            622\n",
       "Lounge             591\n",
       "Outerwear          290\n",
       "Swim               289\n",
       "Shorts             265\n",
       "Sleep              198\n",
       "Legwear            142\n",
       "Intimates          131\n",
       "Layering           123\n",
       "Trend               99\n",
       "Casual bottoms       1\n",
       "Chemises             1\n",
       "Name: Class Name, dtype: int64"
      ]
     },
     "execution_count": 368,
     "metadata": {},
     "output_type": "execute_result"
    }
   ],
   "source": [
    "data['Class Name'].value_counts()"
   ]
  },
  {
   "cell_type": "code",
   "execution_count": 369,
   "id": "18396930",
   "metadata": {},
   "outputs": [
    {
     "data": {
      "text/plain": [
       "<matplotlib.axes._subplots.AxesSubplot at 0x249b4b7feb8>"
      ]
     },
     "execution_count": 369,
     "metadata": {},
     "output_type": "execute_result"
    },
    {
     "data": {
      "image/png": "[encoded data removed]",
      "text/plain": [
       "<Figure size 432x288 with 1 Axes>"
      ]
     },
     "metadata": {
      "needs_background": "light"
     },
     "output_type": "display_data"
    }
   ],
   "source": [
    "sns.countplot(data['Class Name'])"
   ]
  },
  {
   "cell_type": "markdown",
   "id": "39d220e7",
   "metadata": {},
   "source": [
    "**Inference:** \n",
    "<br>(1)There is only one data of casual bottoms and chemises, it may create problem after train test split and one hot encoding so lets remove these.\n",
    "<br>(2) out of 18 the maximum class belong to dresses and minimum to Trend "
   ]
  },
  {
   "cell_type": "code",
   "execution_count": 370,
   "id": "32492c30",
   "metadata": {},
   "outputs": [],
   "source": [
    "df2 = data[data['Class Name'] != 'Casual bottoms']\n",
    "data = df2[df2['Class Name'] != 'Chemises']"
   ]
  },
  {
   "cell_type": "markdown",
   "id": "1d400c91",
   "metadata": {},
   "source": [
    "**2. Bivariate analysis**"
   ]
  },
  {
   "cell_type": "markdown",
   "id": "5730477d",
   "metadata": {},
   "source": [
    "**Age vs labels**"
   ]
  },
  {
   "cell_type": "code",
   "execution_count": 371,
   "id": "6d7e4385",
   "metadata": {},
   "outputs": [
    {
     "data": {
      "text/plain": [
       "<matplotlib.axes._subplots.AxesSubplot at 0x249b4c19ac8>"
      ]
     },
     "execution_count": 371,
     "metadata": {},
     "output_type": "execute_result"
    },
    {
     "data": {
      "image/png": "[encoded data removed]",
      "text/plain": [
       "<Figure size 432x288 with 1 Axes>"
      ]
     },
     "metadata": {
      "needs_background": "light"
     },
     "output_type": "display_data"
    }
   ],
   "source": [
    "sns.boxplot(x= data['labels'], y = data['Age'],hue=data['labels'])"
   ]
  },
  {
   "cell_type": "markdown",
   "id": "69a637ec",
   "metadata": {},
   "source": [
    "No such relation between the type of review and age of the customer."
   ]
  },
  {
   "cell_type": "markdown",
   "id": "1d7dcf0f",
   "metadata": {},
   "source": [
    "**Positive Feedback Count vs labels**"
   ]
  },
  {
   "cell_type": "code",
   "execution_count": 372,
   "id": "9dbea4c9",
   "metadata": {
    "scrolled": true
   },
   "outputs": [
    {
     "data": {
      "text/plain": [
       "<matplotlib.axes._subplots.AxesSubplot at 0x249b4c93f98>"
      ]
     },
     "execution_count": 372,
     "metadata": {},
     "output_type": "execute_result"
    },
    {
     "data": {
      "image/png": "[encoded data removed]",
      "text/plain": [
       "<Figure size 432x288 with 1 Axes>"
      ]
     },
     "metadata": {
      "needs_background": "light"
     },
     "output_type": "display_data"
    }
   ],
   "source": [
    "sns.boxplot(x= data['labels'], y = data['Positive Feedback Count'],hue=data['labels'])"
   ]
  },
  {
   "cell_type": "code",
   "execution_count": 373,
   "id": "89ff0935",
   "metadata": {},
   "outputs": [
    {
     "data": {
      "text/plain": [
       "<matplotlib.axes._subplots.AxesSubplot at 0x249b4c8af28>"
      ]
     },
     "execution_count": 373,
     "metadata": {},
     "output_type": "execute_result"
    },
    {
     "data": {
      "image/png": "[encoded data removed]",
      "text/plain": [
       "<Figure size 720x720 with 2 Axes>"
      ]
     },
     "metadata": {
      "needs_background": "light"
     },
     "output_type": "display_data"
    }
   ],
   "source": [
    "corr = round(data.corr(),3)\n",
    "plt.figure(figsize=(10,10))\n",
    "sns.heatmap(corr,cmap=\"Greens\",annot=True)"
   ]
  },
  {
   "cell_type": "markdown",
   "id": "11ed13f9",
   "metadata": {},
   "source": [
    "**Inference:** labels are highly correlated with the recommended IND feature and positive feedback count has negative correlation value with the labels."
   ]
  },
  {
   "cell_type": "markdown",
   "id": "b6c8170a",
   "metadata": {},
   "source": [
    "## Text Preprocessing"
   ]
  },
  {
   "cell_type": "code",
   "execution_count": 374,
   "id": "223db63a",
   "metadata": {},
   "outputs": [
    {
     "data": {
      "text/html": [
       "<div>\n",
       "<style scoped>\n",
       "    .dataframe tbody tr th:only-of-type {\n",
       "        vertical-align: middle;\n",
       "    }\n",
       "\n",
       "    .dataframe tbody tr th {\n",
       "        vertical-align: top;\n",
       "    }\n",
       "\n",
       "    .dataframe thead th {\n",
       "        text-align: right;\n",
       "    }\n",
       "</style>\n",
       "<table border=\"1\" class=\"dataframe\">\n",
       "  <thead>\n",
       "    <tr style=\"text-align: right;\">\n",
       "      <th></th>\n",
       "      <th>Age</th>\n",
       "      <th>Title</th>\n",
       "      <th>Review Text</th>\n",
       "      <th>Recommended IND</th>\n",
       "      <th>Positive Feedback Count</th>\n",
       "      <th>Division Name</th>\n",
       "      <th>Department Name</th>\n",
       "      <th>Class Name</th>\n",
       "      <th>labels</th>\n",
       "    </tr>\n",
       "  </thead>\n",
       "  <tbody>\n",
       "    <tr>\n",
       "      <th>0</th>\n",
       "      <td>33</td>\n",
       "      <td>none</td>\n",
       "      <td>Absolutely wonderful - silky and sexy and comf...</td>\n",
       "      <td>1</td>\n",
       "      <td>0</td>\n",
       "      <td>Initmates</td>\n",
       "      <td>Intimate</td>\n",
       "      <td>Intimates</td>\n",
       "      <td>1</td>\n",
       "    </tr>\n",
       "    <tr>\n",
       "      <th>1</th>\n",
       "      <td>34</td>\n",
       "      <td>none</td>\n",
       "      <td>Love this dress!  it's sooo pretty.  i happene...</td>\n",
       "      <td>1</td>\n",
       "      <td>4</td>\n",
       "      <td>General</td>\n",
       "      <td>Dresses</td>\n",
       "      <td>Dresses</td>\n",
       "      <td>1</td>\n",
       "    </tr>\n",
       "    <tr>\n",
       "      <th>3</th>\n",
       "      <td>50</td>\n",
       "      <td>My favorite buy!</td>\n",
       "      <td>I love, love, love this jumpsuit. it's fun, fl...</td>\n",
       "      <td>1</td>\n",
       "      <td>0</td>\n",
       "      <td>General Petite</td>\n",
       "      <td>Bottoms</td>\n",
       "      <td>Pants</td>\n",
       "      <td>1</td>\n",
       "    </tr>\n",
       "    <tr>\n",
       "      <th>4</th>\n",
       "      <td>47</td>\n",
       "      <td>Flattering shirt</td>\n",
       "      <td>This shirt is very flattering to all due to th...</td>\n",
       "      <td>1</td>\n",
       "      <td>6</td>\n",
       "      <td>General</td>\n",
       "      <td>Tops</td>\n",
       "      <td>Blouses</td>\n",
       "      <td>1</td>\n",
       "    </tr>\n",
       "    <tr>\n",
       "      <th>5</th>\n",
       "      <td>49</td>\n",
       "      <td>Not for the very petite</td>\n",
       "      <td>I love tracy reese dresses, but this one is no...</td>\n",
       "      <td>0</td>\n",
       "      <td>4</td>\n",
       "      <td>General</td>\n",
       "      <td>Dresses</td>\n",
       "      <td>Dresses</td>\n",
       "      <td>0</td>\n",
       "    </tr>\n",
       "  </tbody>\n",
       "</table>\n",
       "</div>"
      ],
      "text/plain": [
       "   Age                    Title  \\\n",
       "0   33                     none   \n",
       "1   34                     none   \n",
       "3   50         My favorite buy!   \n",
       "4   47         Flattering shirt   \n",
       "5   49  Not for the very petite   \n",
       "\n",
       "                                         Review Text  Recommended IND  \\\n",
       "0  Absolutely wonderful - silky and sexy and comf...                1   \n",
       "1  Love this dress!  it's sooo pretty.  i happene...                1   \n",
       "3  I love, love, love this jumpsuit. it's fun, fl...                1   \n",
       "4  This shirt is very flattering to all due to th...                1   \n",
       "5  I love tracy reese dresses, but this one is no...                0   \n",
       "\n",
       "   Positive Feedback Count   Division Name Department Name Class Name  labels  \n",
       "0                        0       Initmates        Intimate  Intimates       1  \n",
       "1                        4         General         Dresses    Dresses       1  \n",
       "3                        0  General Petite         Bottoms      Pants       1  \n",
       "4                        6         General            Tops    Blouses       1  \n",
       "5                        4         General         Dresses    Dresses       0  "
      ]
     },
     "execution_count": 374,
     "metadata": {},
     "output_type": "execute_result"
    }
   ],
   "source": [
    "data.head()"
   ]
  },
  {
   "cell_type": "code",
   "execution_count": 375,
   "id": "8707d02a",
   "metadata": {},
   "outputs": [],
   "source": [
    "## Removing extraa symbols and converting each text to lowercase\n",
    "def remove_special_char(s):\n",
    "    import string\n",
    "    for char in string.punctuation:\n",
    "        s = s.replace(char, ' ')\n",
    "    return s\n",
    "    \n",
    "    \n",
    "data['Review Text'] = data['Review Text'].apply(lambda x:remove_special_char(x))\n",
    "data['Title'] = data['Title'].apply(lambda x:remove_special_char(x))"
   ]
  },
  {
   "cell_type": "code",
   "execution_count": 376,
   "id": "aaf902d7",
   "metadata": {},
   "outputs": [],
   "source": [
    "## all special characters are removed lets convert each word to the lowercase;\n",
    "def string_to_lowercase(st):\n",
    "    st = st.lower()\n",
    "    return st\n",
    "data['Review Text'] = data['Review Text'].apply(lambda x:string_to_lowercase(x))\n",
    "data['Title'] = data['Title'].apply(lambda x:string_to_lowercase(x))"
   ]
  },
  {
   "cell_type": "code",
   "execution_count": 377,
   "id": "fc940ebb",
   "metadata": {},
   "outputs": [
    {
     "data": {
      "text/html": [
       "<div>\n",
       "<style scoped>\n",
       "    .dataframe tbody tr th:only-of-type {\n",
       "        vertical-align: middle;\n",
       "    }\n",
       "\n",
       "    .dataframe tbody tr th {\n",
       "        vertical-align: top;\n",
       "    }\n",
       "\n",
       "    .dataframe thead th {\n",
       "        text-align: right;\n",
       "    }\n",
       "</style>\n",
       "<table border=\"1\" class=\"dataframe\">\n",
       "  <thead>\n",
       "    <tr style=\"text-align: right;\">\n",
       "      <th></th>\n",
       "      <th>Age</th>\n",
       "      <th>Title</th>\n",
       "      <th>Review Text</th>\n",
       "      <th>Recommended IND</th>\n",
       "      <th>Positive Feedback Count</th>\n",
       "      <th>Division Name</th>\n",
       "      <th>Department Name</th>\n",
       "      <th>Class Name</th>\n",
       "      <th>labels</th>\n",
       "    </tr>\n",
       "  </thead>\n",
       "  <tbody>\n",
       "    <tr>\n",
       "      <th>0</th>\n",
       "      <td>33</td>\n",
       "      <td>none</td>\n",
       "      <td>absolutely wonderful   silky and sexy and comf...</td>\n",
       "      <td>1</td>\n",
       "      <td>0</td>\n",
       "      <td>Initmates</td>\n",
       "      <td>Intimate</td>\n",
       "      <td>Intimates</td>\n",
       "      <td>1</td>\n",
       "    </tr>\n",
       "    <tr>\n",
       "      <th>1</th>\n",
       "      <td>34</td>\n",
       "      <td>none</td>\n",
       "      <td>love this dress   it s sooo pretty   i happene...</td>\n",
       "      <td>1</td>\n",
       "      <td>4</td>\n",
       "      <td>General</td>\n",
       "      <td>Dresses</td>\n",
       "      <td>Dresses</td>\n",
       "      <td>1</td>\n",
       "    </tr>\n",
       "    <tr>\n",
       "      <th>3</th>\n",
       "      <td>50</td>\n",
       "      <td>my favorite buy</td>\n",
       "      <td>i love  love  love this jumpsuit  it s fun  fl...</td>\n",
       "      <td>1</td>\n",
       "      <td>0</td>\n",
       "      <td>General Petite</td>\n",
       "      <td>Bottoms</td>\n",
       "      <td>Pants</td>\n",
       "      <td>1</td>\n",
       "    </tr>\n",
       "    <tr>\n",
       "      <th>4</th>\n",
       "      <td>47</td>\n",
       "      <td>flattering shirt</td>\n",
       "      <td>this shirt is very flattering to all due to th...</td>\n",
       "      <td>1</td>\n",
       "      <td>6</td>\n",
       "      <td>General</td>\n",
       "      <td>Tops</td>\n",
       "      <td>Blouses</td>\n",
       "      <td>1</td>\n",
       "    </tr>\n",
       "    <tr>\n",
       "      <th>5</th>\n",
       "      <td>49</td>\n",
       "      <td>not for the very petite</td>\n",
       "      <td>i love tracy reese dresses  but this one is no...</td>\n",
       "      <td>0</td>\n",
       "      <td>4</td>\n",
       "      <td>General</td>\n",
       "      <td>Dresses</td>\n",
       "      <td>Dresses</td>\n",
       "      <td>0</td>\n",
       "    </tr>\n",
       "  </tbody>\n",
       "</table>\n",
       "</div>"
      ],
      "text/plain": [
       "   Age                    Title  \\\n",
       "0   33                     none   \n",
       "1   34                     none   \n",
       "3   50         my favorite buy    \n",
       "4   47         flattering shirt   \n",
       "5   49  not for the very petite   \n",
       "\n",
       "                                         Review Text  Recommended IND  \\\n",
       "0  absolutely wonderful   silky and sexy and comf...                1   \n",
       "1  love this dress   it s sooo pretty   i happene...                1   \n",
       "3  i love  love  love this jumpsuit  it s fun  fl...                1   \n",
       "4  this shirt is very flattering to all due to th...                1   \n",
       "5  i love tracy reese dresses  but this one is no...                0   \n",
       "\n",
       "   Positive Feedback Count   Division Name Department Name Class Name  labels  \n",
       "0                        0       Initmates        Intimate  Intimates       1  \n",
       "1                        4         General         Dresses    Dresses       1  \n",
       "3                        0  General Petite         Bottoms      Pants       1  \n",
       "4                        6         General            Tops    Blouses       1  \n",
       "5                        4         General         Dresses    Dresses       0  "
      ]
     },
     "execution_count": 377,
     "metadata": {},
     "output_type": "execute_result"
    }
   ],
   "source": [
    "data.head()"
   ]
  },
  {
   "cell_type": "markdown",
   "id": "0eb68cdb",
   "metadata": {},
   "source": [
    "**Stopwords removal**"
   ]
  },
  {
   "cell_type": "code",
   "execution_count": 378,
   "id": "11386748",
   "metadata": {},
   "outputs": [],
   "source": [
    "stop = stopwords.words('english')\n",
    "# In stopwords list not is also present but not can change the entire meaning of the sentence, so lets remove the entire stopwords except not\n",
    "stop.remove(\"not\")"
   ]
  },
  {
   "cell_type": "code",
   "execution_count": 379,
   "id": "7e7a1af4",
   "metadata": {},
   "outputs": [],
   "source": [
    "data['Review Text'] = data['Review Text'].iloc[:].replace(stop,\"\")"
   ]
  },
  {
   "cell_type": "markdown",
   "id": "ae6e7dc9",
   "metadata": {},
   "source": [
    "## Data Preparation and feature engineering"
   ]
  },
  {
   "cell_type": "code",
   "execution_count": 380,
   "id": "de902d9f",
   "metadata": {},
   "outputs": [
    {
     "data": {
      "text/plain": [
       "Index(['Age', 'Title', 'Review Text', 'Recommended IND',\n",
       "       'Positive Feedback Count', 'Division Name', 'Department Name',\n",
       "       'Class Name', 'labels'],\n",
       "      dtype='object')"
      ]
     },
     "execution_count": 380,
     "metadata": {},
     "output_type": "execute_result"
    }
   ],
   "source": [
    "data.columns"
   ]
  },
  {
   "cell_type": "markdown",
   "id": "4bb85e3f",
   "metadata": {},
   "source": [
    "**Sentiment Analysis**"
   ]
  },
  {
   "cell_type": "code",
   "execution_count": 381,
   "id": "2d0d2f94",
   "metadata": {},
   "outputs": [
    {
     "name": "stderr",
     "output_type": "stream",
     "text": [
      "[nltk_data] Downloading package vader_lexicon to C:\\Users\\Adarsh\n",
      "[nltk_data]     kumar\\AppData\\Roaming\\nltk_data...\n",
      "[nltk_data]   Package vader_lexicon is already up-to-date!\n"
     ]
    }
   ],
   "source": [
    "def sentiment_analaysis(corpus):\n",
    "    import nltk\n",
    "    from nltk.sentiment.vader import SentimentIntensityAnalyzer\n",
    "    nltk.download('vader_lexicon')\n",
    "    neg = []\n",
    "    neu = []\n",
    "    pos = []\n",
    "    compound = []\n",
    "    sid = SentimentIntensityAnalyzer()\n",
    "    for sen in corpus:\n",
    "        ss_1 = sid.polarity_scores(sen)\n",
    "        neg.append(ss_1['neg'])\n",
    "        neu.append(ss_1['neu'])\n",
    "        pos.append(ss_1['pos'])\n",
    "        compound.append(ss_1['compound'])\n",
    "    return neg,neu,pos,compound\n",
    "data['neg'], data['neu'], data['pos'], data['compound'] = sentiment_analaysis(data['Review Text'])"
   ]
  },
  {
   "cell_type": "code",
   "execution_count": 382,
   "id": "d90a8b18",
   "metadata": {},
   "outputs": [
    {
     "data": {
      "text/html": [
       "<div>\n",
       "<style scoped>\n",
       "    .dataframe tbody tr th:only-of-type {\n",
       "        vertical-align: middle;\n",
       "    }\n",
       "\n",
       "    .dataframe tbody tr th {\n",
       "        vertical-align: top;\n",
       "    }\n",
       "\n",
       "    .dataframe thead th {\n",
       "        text-align: right;\n",
       "    }\n",
       "</style>\n",
       "<table border=\"1\" class=\"dataframe\">\n",
       "  <thead>\n",
       "    <tr style=\"text-align: right;\">\n",
       "      <th></th>\n",
       "      <th>Age</th>\n",
       "      <th>Title</th>\n",
       "      <th>Review Text</th>\n",
       "      <th>Recommended IND</th>\n",
       "      <th>Positive Feedback Count</th>\n",
       "      <th>Division Name</th>\n",
       "      <th>Department Name</th>\n",
       "      <th>Class Name</th>\n",
       "      <th>labels</th>\n",
       "      <th>neg</th>\n",
       "      <th>neu</th>\n",
       "      <th>pos</th>\n",
       "      <th>compound</th>\n",
       "    </tr>\n",
       "  </thead>\n",
       "  <tbody>\n",
       "    <tr>\n",
       "      <th>0</th>\n",
       "      <td>33</td>\n",
       "      <td>none</td>\n",
       "      <td>absolutely wonderful   silky and sexy and comf...</td>\n",
       "      <td>1</td>\n",
       "      <td>0</td>\n",
       "      <td>Initmates</td>\n",
       "      <td>Intimate</td>\n",
       "      <td>Intimates</td>\n",
       "      <td>1</td>\n",
       "      <td>0.000</td>\n",
       "      <td>0.272</td>\n",
       "      <td>0.728</td>\n",
       "      <td>0.8932</td>\n",
       "    </tr>\n",
       "    <tr>\n",
       "      <th>1</th>\n",
       "      <td>34</td>\n",
       "      <td>none</td>\n",
       "      <td>love this dress   it s sooo pretty   i happene...</td>\n",
       "      <td>1</td>\n",
       "      <td>4</td>\n",
       "      <td>General</td>\n",
       "      <td>Dresses</td>\n",
       "      <td>Dresses</td>\n",
       "      <td>1</td>\n",
       "      <td>0.000</td>\n",
       "      <td>0.657</td>\n",
       "      <td>0.343</td>\n",
       "      <td>0.9719</td>\n",
       "    </tr>\n",
       "    <tr>\n",
       "      <th>3</th>\n",
       "      <td>50</td>\n",
       "      <td>my favorite buy</td>\n",
       "      <td>i love  love  love this jumpsuit  it s fun  fl...</td>\n",
       "      <td>1</td>\n",
       "      <td>0</td>\n",
       "      <td>General Petite</td>\n",
       "      <td>Bottoms</td>\n",
       "      <td>Pants</td>\n",
       "      <td>1</td>\n",
       "      <td>0.231</td>\n",
       "      <td>0.346</td>\n",
       "      <td>0.423</td>\n",
       "      <td>0.4805</td>\n",
       "    </tr>\n",
       "    <tr>\n",
       "      <th>4</th>\n",
       "      <td>47</td>\n",
       "      <td>flattering shirt</td>\n",
       "      <td>this shirt is very flattering to all due to th...</td>\n",
       "      <td>1</td>\n",
       "      <td>6</td>\n",
       "      <td>General</td>\n",
       "      <td>Tops</td>\n",
       "      <td>Blouses</td>\n",
       "      <td>1</td>\n",
       "      <td>0.000</td>\n",
       "      <td>0.713</td>\n",
       "      <td>0.287</td>\n",
       "      <td>0.9162</td>\n",
       "    </tr>\n",
       "    <tr>\n",
       "      <th>5</th>\n",
       "      <td>49</td>\n",
       "      <td>not for the very petite</td>\n",
       "      <td>i love tracy reese dresses  but this one is no...</td>\n",
       "      <td>0</td>\n",
       "      <td>4</td>\n",
       "      <td>General</td>\n",
       "      <td>Dresses</td>\n",
       "      <td>Dresses</td>\n",
       "      <td>0</td>\n",
       "      <td>0.000</td>\n",
       "      <td>0.853</td>\n",
       "      <td>0.147</td>\n",
       "      <td>0.9419</td>\n",
       "    </tr>\n",
       "  </tbody>\n",
       "</table>\n",
       "</div>"
      ],
      "text/plain": [
       "   Age                    Title  \\\n",
       "0   33                     none   \n",
       "1   34                     none   \n",
       "3   50         my favorite buy    \n",
       "4   47         flattering shirt   \n",
       "5   49  not for the very petite   \n",
       "\n",
       "                                         Review Text  Recommended IND  \\\n",
       "0  absolutely wonderful   silky and sexy and comf...                1   \n",
       "1  love this dress   it s sooo pretty   i happene...                1   \n",
       "3  i love  love  love this jumpsuit  it s fun  fl...                1   \n",
       "4  this shirt is very flattering to all due to th...                1   \n",
       "5  i love tracy reese dresses  but this one is no...                0   \n",
       "\n",
       "   Positive Feedback Count   Division Name Department Name Class Name  labels  \\\n",
       "0                        0       Initmates        Intimate  Intimates       1   \n",
       "1                        4         General         Dresses    Dresses       1   \n",
       "3                        0  General Petite         Bottoms      Pants       1   \n",
       "4                        6         General            Tops    Blouses       1   \n",
       "5                        4         General         Dresses    Dresses       0   \n",
       "\n",
       "     neg    neu    pos  compound  \n",
       "0  0.000  0.272  0.728    0.8932  \n",
       "1  0.000  0.657  0.343    0.9719  \n",
       "3  0.231  0.346  0.423    0.4805  \n",
       "4  0.000  0.713  0.287    0.9162  \n",
       "5  0.000  0.853  0.147    0.9419  "
      ]
     },
     "execution_count": 382,
     "metadata": {},
     "output_type": "execute_result"
    }
   ],
   "source": [
    "data.head()"
   ]
  },
  {
   "cell_type": "code",
   "execution_count": 383,
   "id": "8f8ac579",
   "metadata": {},
   "outputs": [],
   "source": [
    "# lets rremove target variable from the dataset\n",
    "y = data['labels']\n",
    "x = data.drop(['labels'],axis = 1)"
   ]
  },
  {
   "cell_type": "code",
   "execution_count": 384,
   "id": "937895a4",
   "metadata": {},
   "outputs": [
    {
     "data": {
      "text/plain": [
       "Index(['Age', 'Title', 'Review Text', 'Recommended IND',\n",
       "       'Positive Feedback Count', 'Division Name', 'Department Name',\n",
       "       'Class Name', 'neg', 'neu', 'pos', 'compound'],\n",
       "      dtype='object')"
      ]
     },
     "execution_count": 384,
     "metadata": {},
     "output_type": "execute_result"
    }
   ],
   "source": [
    "x.columns"
   ]
  },
  {
   "cell_type": "markdown",
   "id": "521e1b7f",
   "metadata": {},
   "source": [
    "**Train test split**"
   ]
  },
  {
   "cell_type": "code",
   "execution_count": 385,
   "id": "47f61932",
   "metadata": {},
   "outputs": [
    {
     "name": "stdout",
     "output_type": "stream",
     "text": [
      "The shape of x_train and y_train is (14860, 12) and (14860,)\n",
      "The shape of x_test and y_test is (4954, 12) and (4954,)\n"
     ]
    }
   ],
   "source": [
    "x_train,x_test,y_train,y_test = train_test_split(x,y,test_size = 0.25, stratify = y, random_state = 42)\n",
    "print(\"The shape of x_train and y_train is\",x_train.shape,\"and\",y_train.shape)\n",
    "print(\"The shape of x_test and y_test is\",x_test.shape,\"and\",y_test.shape)"
   ]
  },
  {
   "cell_type": "code",
   "execution_count": 427,
   "id": "4a0d3f24",
   "metadata": {},
   "outputs": [
    {
     "name": "stdout",
     "output_type": "stream",
     "text": [
      "1    13083\n",
      "0     1777\n",
      "Name: labels, dtype: int64\n",
      "**************************************************\n",
      "1    4361\n",
      "0     593\n",
      "Name: labels, dtype: int64\n"
     ]
    }
   ],
   "source": [
    "print(y_train.value_counts())\n",
    "print(\"*\"*50)\n",
    "print(y_test.value_counts())"
   ]
  },
  {
   "cell_type": "markdown",
   "id": "a6cdc776",
   "metadata": {},
   "source": [
    "**Tf-idf**"
   ]
  },
  {
   "cell_type": "code",
   "execution_count": 386,
   "id": "4c98c905",
   "metadata": {},
   "outputs": [],
   "source": [
    "def tfidf_vectorizer(x_train,x_test,col):\n",
    "    from sklearn.feature_extraction.text import TfidfVectorizer\n",
    "    vectorizer = TfidfVectorizer()\n",
    "    vectorizer.fit(x_train[col].values)\n",
    "    x_train_tfidf = vectorizer.transform(x_train[col].values)\n",
    "    x_test_tfidf = vectorizer.transform(x_test[col].values)\n",
    "    return x_train_tfidf,x_test_tfidf"
   ]
  },
  {
   "cell_type": "code",
   "execution_count": 387,
   "id": "0f1c44da",
   "metadata": {},
   "outputs": [],
   "source": [
    "x_train_tfidf_review, x_test_tfidf_review = tfidf_vectorizer(x_train,x_test, \"Review Text\")\n",
    "x_train_tfidf_title,x_test_tfidf_title = tfidf_vectorizer(x_train,x_test,\"Title\")"
   ]
  },
  {
   "cell_type": "code",
   "execution_count": 388,
   "id": "daec47ca",
   "metadata": {},
   "outputs": [
    {
     "name": "stdout",
     "output_type": "stream",
     "text": [
      "shape of x_train_tfidf_review and x_test_tfidf_review is (14860, 11885) and (4954, 11885)\n",
      "shape of x_train_tfidf_title and x_test_tfidf_title is (14860, 2964) and (4954, 2964)\n"
     ]
    }
   ],
   "source": [
    "print(\"shape of x_train_tfidf_review and x_test_tfidf_review is\",x_train_tfidf_review.shape,\"and\",x_test_tfidf_review.shape)\n",
    "print(\"shape of x_train_tfidf_title and x_test_tfidf_title is\",x_train_tfidf_title.shape,\"and\",x_test_tfidf_title.shape)"
   ]
  },
  {
   "cell_type": "markdown",
   "id": "3147770a",
   "metadata": {},
   "source": [
    "**Word2Vec**"
   ]
  },
  {
   "cell_type": "code",
   "execution_count": 389,
   "id": "46ab3bfb",
   "metadata": {},
   "outputs": [],
   "source": [
    "def Average_w2v(data,col,vector_size:int):\n",
    "    lst_of_sen = []\n",
    "    for ele in data[col]:\n",
    "        lst_of_sen.append(ele.split(' '))\n",
    "    import gensim\n",
    "    from gensim.models import Word2Vec\n",
    "    model = Word2Vec(lst_of_sen, min_count = 1, vector_size = vector_size,window = 5, sg = 1)\n",
    "    words = list(model.wv.key_to_index)\n",
    "    sent_vector = []\n",
    "    for lst in lst_of_sen:\n",
    "        sen_vec = np.zeros(vector_size)\n",
    "        count = 0\n",
    "        for word in lst:\n",
    "            if word in words:\n",
    "                vec = model.wv[word]\n",
    "                sen_vec += vec\n",
    "                count += 1\n",
    "        if count != 0:\n",
    "            sen_vec /= count\n",
    "        sent_vector.append(sen_vec)       \n",
    "    return sent_vector"
   ]
  },
  {
   "cell_type": "code",
   "execution_count": 390,
   "id": "da291f1c",
   "metadata": {},
   "outputs": [],
   "source": [
    "x_train_w2v_review = np.asarray(Average_w2v(x_train,\"Review Text\",200))\n",
    "x_test_w2v_review = np.asarray(Average_w2v(x_test,\"Review Text\",200))"
   ]
  },
  {
   "cell_type": "code",
   "execution_count": 391,
   "id": "02de1942",
   "metadata": {},
   "outputs": [
    {
     "name": "stdout",
     "output_type": "stream",
     "text": [
      "shape of x_train_w2v_review is (14860, 200)\n",
      "shape of x_test_w2v_review is (4954, 200)\n"
     ]
    }
   ],
   "source": [
    "print(\"shape of x_train_w2v_review is\", x_train_w2v_review.shape)\n",
    "print(\"shape of x_test_w2v_review is\", x_test_w2v_review.shape)"
   ]
  },
  {
   "cell_type": "code",
   "execution_count": 392,
   "id": "2a87596d",
   "metadata": {},
   "outputs": [
    {
     "name": "stdout",
     "output_type": "stream",
     "text": [
      "shape of x_train_w2v_title is (14860, 50)\n",
      "shape of x_test_w2v_title is (4954, 50)\n"
     ]
    }
   ],
   "source": [
    "x_train_w2v_title = np.asarray(Average_w2v(x_train,\"Title\",50))\n",
    "x_test_w2v_title = np.asarray(Average_w2v(x_test,\"Title\",50))\n",
    "print(\"shape of x_train_w2v_title is\", x_train_w2v_title.shape)\n",
    "print(\"shape of x_test_w2v_title is\", x_test_w2v_title.shape)"
   ]
  },
  {
   "cell_type": "markdown",
   "id": "f4d0233d",
   "metadata": {},
   "source": [
    "**one hot encoding**"
   ]
  },
  {
   "cell_type": "code",
   "execution_count": 393,
   "id": "263e02f5",
   "metadata": {},
   "outputs": [],
   "source": [
    "def pandas_get_dummies(df,col):\n",
    "    try:\n",
    "        df1 = pd.get_dummies(df[col], drop_first = True)\n",
    "        return np.asarray(df1)\n",
    "    except Exception as e:\n",
    "        return e"
   ]
  },
  {
   "cell_type": "code",
   "execution_count": 394,
   "id": "cf0b0edd",
   "metadata": {},
   "outputs": [
    {
     "name": "stdout",
     "output_type": "stream",
     "text": [
      "shape of x_train_recomm and x_test_recomm is (14860, 1) and (4954, 1)\n",
      "--------------------------------------------------\n",
      "shape of x_train_div and x_test_div is (14860, 2) and (4954, 2)\n",
      "--------------------------------------------------\n",
      "shape of x_train_dep and x_test_dep is (14860, 5) and (4954, 5)\n",
      "--------------------------------------------------\n",
      "shape of x_train_class and x_test_class is (14860, 17) and (4954, 17)\n",
      "--------------------------------------------------\n"
     ]
    }
   ],
   "source": [
    "# Recommend IND\n",
    "x_train_recomm = pandas_get_dummies(x_train,'Recommended IND')\n",
    "x_test_recomm = pandas_get_dummies(x_test,'Recommended IND')\n",
    "print(\"shape of x_train_recomm and x_test_recomm is\", x_train_recomm.shape,\"and\",x_test_recomm.shape)\n",
    "print(\"-\"*50)\n",
    "\n",
    "# Division Name\n",
    "x_train_div = pandas_get_dummies(x_train,'Division Name')\n",
    "x_test_div = pandas_get_dummies(x_test,'Division Name')\n",
    "print(\"shape of x_train_div and x_test_div is\", x_train_div.shape,\"and\",x_test_div.shape)\n",
    "print(\"-\"*50)\n",
    "\n",
    "# Department Name\n",
    "x_train_dep = pandas_get_dummies(x_train,'Department Name')\n",
    "x_test_dep = pandas_get_dummies(x_test,'Department Name')\n",
    "print(\"shape of x_train_dep and x_test_dep is\", x_train_dep.shape,\"and\",x_test_dep.shape)\n",
    "print(\"-\"*50) \n",
    "\n",
    "# Class Name\n",
    "x_train_class = pandas_get_dummies(x_train,'Class Name')\n",
    "x_test_class = pandas_get_dummies(x_test,'Class Name')\n",
    "print(\"shape of x_train_class and x_test_class is\", x_train_class.shape,\"and\",x_test_class.shape)\n",
    "print(\"-\"*50)                                 "
   ]
  },
  {
   "cell_type": "code",
   "execution_count": 395,
   "id": "7c8512ca",
   "metadata": {},
   "outputs": [],
   "source": [
    "def normalization(X_train, X_test, col1):\n",
    "    from sklearn.preprocessing import Normalizer\n",
    "    normalizer = Normalizer()\n",
    "    normalizer.fit(X_train[col1].values.reshape(-1,1))\n",
    "    \n",
    "    X_train_norm = normalizer.transform(X_train[col1].values.reshape(-1,1))\n",
    "    X_test_norm= normalizer.transform(X_test[col1].values.reshape(-1,1))\n",
    "    return X_train_norm, X_test_norm\n",
    "    "
   ]
  },
  {
   "cell_type": "code",
   "execution_count": 396,
   "id": "539d1c12",
   "metadata": {},
   "outputs": [
    {
     "name": "stdout",
     "output_type": "stream",
     "text": [
      "shape of x_train_age and x_test_age is (14860, 1) and (4954, 1)\n",
      "--------------------------------------------------\n",
      "shape of x_train_pos and x_test_pos is (14860, 1) and (4954, 1)\n",
      "--------------------------------------------------\n",
      "shape of x_train_neg and x_test_neg is (14860, 1) and (4954, 1)\n",
      "--------------------------------------------------\n",
      "shape of x_train_neu and x_test_neu is (14860, 1) and (4954, 1)\n",
      "--------------------------------------------------\n",
      "shape of x_train_pos and x_test_pos is (14860, 1) and (4954, 1)\n",
      "--------------------------------------------------\n",
      "shape of x_train_com and x_test_com is (14860, 1) and (4954, 1)\n",
      "--------------------------------------------------\n"
     ]
    }
   ],
   "source": [
    "# Age \n",
    "x_train_age,x_test_age = normalization(x_train, x_test, 'Age')\n",
    "print(\"shape of x_train_age and x_test_age is\", x_train_age.shape,\"and\",x_test_age.shape)\n",
    "print(\"-\"*50) \n",
    "\n",
    "# Positive Feedback Count\n",
    "x_train_pos, x_test_pos = normalization(x_train, x_test, 'Positive Feedback Count')\n",
    "print(\"shape of x_train_pos and x_test_pos is\", x_train_pos.shape,\"and\",x_test_pos.shape)\n",
    "print(\"-\"*50) \n",
    "\n",
    "#sentiment analysis\n",
    "x_train_neg = np.asarray(x_train['neg']).reshape(-1,1)\n",
    "x_test_neg = np.asarray(x_test['neg']).reshape(-1,1)\n",
    "print(\"shape of x_train_neg and x_test_neg is\", x_train_neg.shape,\"and\",x_test_neg.shape)\n",
    "print(\"-\"*50) \n",
    "\n",
    "x_train_neu = np.asarray(x_train['neu']).reshape(-1,1)\n",
    "x_test_neu = np.asarray(x_test['neu']).reshape(-1,1)\n",
    "print(\"shape of x_train_neu and x_test_neu is\", x_train_neu.shape,\"and\",x_test_neu.shape)\n",
    "print(\"-\"*50) \n",
    "\n",
    "x_train_pos = np.asarray(x_train['pos']).reshape(-1,1)\n",
    "x_test_pos = np.asarray(x_test['pos']).reshape(-1,1)\n",
    "print(\"shape of x_train_pos and x_test_pos is\", x_train_pos.shape,\"and\",x_test_pos.shape)\n",
    "print(\"-\"*50)\n",
    "\n",
    "x_train_com = np.asarray(x_train['compound']).reshape(-1,1)\n",
    "x_test_com = np.asarray(x_test['compound']).reshape(-1,1)\n",
    "print(\"shape of x_train_com and x_test_com is\", x_train_com.shape,\"and\",x_test_com.shape)\n",
    "print(\"-\"*50) "
   ]
  },
  {
   "cell_type": "markdown",
   "id": "8258ce88",
   "metadata": {},
   "source": [
    "## Dataset set-1\n",
    "<br> in this case,we will use the numerical feature + categorical feature + tfidf(Title) +tfidf(Review Text) +sentiment scores( Review text) as features to train and test model "
   ]
  },
  {
   "cell_type": "code",
   "execution_count": 397,
   "id": "934c283a",
   "metadata": {},
   "outputs": [
    {
     "name": "stdout",
     "output_type": "stream",
     "text": [
      "shape of x_train1 and x_test1 is (14860, 14880) and (4954, 14880)\n"
     ]
    }
   ],
   "source": [
    "from scipy.sparse import hstack\n",
    "x_train1 = hstack((x_train_age,x_train_pos,x_train_neg,x_train_neu,x_train_pos,x_train_com,x_train_recomm,x_train_div,x_train_dep,x_train_class,x_train_tfidf_review,x_train_tfidf_title)).tocsr()\n",
    "x_test1 = hstack((x_test_age,x_test_pos,x_test_neg,x_test_neu,x_test_pos,x_test_com,x_test_recomm,x_test_div,x_test_dep,x_test_class,x_test_tfidf_review,x_test_tfidf_title)).tocsr()\n",
    "print(\"shape of x_train1 and x_test1 is\", x_train1.shape, \"and\",x_test1.shape)"
   ]
  },
  {
   "cell_type": "markdown",
   "id": "48a9a30e",
   "metadata": {},
   "source": [
    "## Dataset set-2\n",
    "<br> in this case,we will use the numerical feature + categorical feature + Average tfidf(Title) +Average tfidf(Review Text) +sentiment scores( Review text) as features to train and test model "
   ]
  },
  {
   "cell_type": "code",
   "execution_count": 398,
   "id": "f8eb5c53",
   "metadata": {},
   "outputs": [
    {
     "name": "stdout",
     "output_type": "stream",
     "text": [
      "shape of x_train2 and x_test2 is (14860, 281) and (4954, 281)\n"
     ]
    }
   ],
   "source": [
    "x_train2 = np.hstack((x_train_age,x_train_pos,x_train_neg,x_train_neu,x_train_pos,x_train_com,x_train_recomm,x_train_div,x_train_dep,x_train_class,x_train_w2v_review,x_train_w2v_title))\n",
    "x_test2 = np.hstack((x_test_age,x_test_pos,x_test_neg,x_test_neu,x_test_pos,x_test_com,x_test_recomm,x_test_div,x_test_dep,x_test_class,x_test_w2v_review,x_test_w2v_title))\n",
    "print(\"shape of x_train2 and x_test2 is\", x_train2.shape, \"and\",x_test2.shape)"
   ]
  },
  {
   "cell_type": "markdown",
   "id": "f010f3ee",
   "metadata": {},
   "source": [
    "## Model Training for dataset-1\n",
    "<br> In this section we will train 5 models for each dataset\n",
    "<br> (1) logistic regression\n",
    "<br> (2) Decision Tree \n",
    "<br> (3) Random Forest \n",
    "<br> (4) Gradient Boosting using xgboost"
   ]
  },
  {
   "cell_type": "code",
   "execution_count": 96,
   "id": "15770398",
   "metadata": {},
   "outputs": [],
   "source": [
    "# GridSearchCV for hyperparameter tuning\n",
    "def GridSearchLR(estimator,parameter,x_train,y_train):\n",
    "    try: \n",
    "        from sklearn.model_selection import GridSearchCV\n",
    "        clf = GridSearchCV(estimator,param_grid=parameter,cv=3,scoring = 'roc_auc',return_train_score=True)\n",
    "        clf.fit(x_train,y_train)\n",
    "        result = pd.DataFrame(clf.cv_results_)\n",
    "        #print(result)\n",
    "        return result,clf.best_estimator_\n",
    "    except Exception as e:\n",
    "        return e\n",
    "    \n",
    "def plotting_train_test_score(result,param):\n",
    "    try:\n",
    "        C = result[param]\n",
    "        train_score = result['mean_train_score']\n",
    "        test_score = result['mean_test_score']\n",
    "        plt.plot(C,train_score,'r',label = 'train_score')\n",
    "        plt.plot(C,test_score,'y',label ='test_score')\n",
    "        plt.xlabel('Hyperparameter')\n",
    "        plt.ylabel('score')\n",
    "        plt.legend()\n",
    "        plt.show()\n",
    "    except Exception as e:\n",
    "        print(e)"
   ]
  },
  {
   "cell_type": "code",
   "execution_count": 199,
   "id": "2733b13c",
   "metadata": {},
   "outputs": [],
   "source": [
    "def plot_roc_auc_plot(y_train,y_test,y_train_pred,y_test_pred):\n",
    "    train_fpr, train_tpr, tr_thresholds = roc_curve(y_train, y_train_pred)\n",
    "    test_fpr, test_tpr, te_thresholds = roc_curve(y_test, y_test_pred)\n",
    "\n",
    "    train_AUC_bow = auc(train_fpr, train_tpr)\n",
    "    test_AUC_bow = auc(test_fpr, test_tpr)\n",
    "\n",
    "    plt.plot(train_fpr, train_tpr, label=\"train AUC =\"+str(train_AUC_bow))\n",
    "    plt.plot(test_fpr, test_tpr, label=\"test AUC =\"+str(test_AUC_bow))\n",
    "    plt.legend()\n",
    "    plt.xlabel(\"False positive rate: FPR\")\n",
    "    plt.ylabel(\"True positive rate: FPR\")\n",
    "    plt.title(\"ERROR PLOTS\")\n",
    "    plt.grid()\n",
    "    plt.show()\n"
   ]
  },
  {
   "cell_type": "markdown",
   "id": "c5716cbd",
   "metadata": {},
   "source": [
    "**1. Logistic Regression**\n",
    "<br> It is a classification technique, which tries to fit a hyperplane to separate different classes. Mainly a binary classification problem."
   ]
  },
  {
   "cell_type": "code",
   "execution_count": 195,
   "id": "834278d4",
   "metadata": {},
   "outputs": [],
   "source": [
    "parameter = {'C':[10**i for i in range(-3,1)]}\n",
    "lr = LogisticRegression(random_state=42)\n",
    "result,best_param = GridSearchLR(lr,parameter,x_train1,y_train)"
   ]
  },
  {
   "cell_type": "code",
   "execution_count": 196,
   "id": "6ad34a34",
   "metadata": {},
   "outputs": [
    {
     "name": "stdout",
     "output_type": "stream",
     "text": [
      "LogisticRegression(C=1, random_state=42)\n"
     ]
    }
   ],
   "source": [
    "print(best_param)"
   ]
  },
  {
   "cell_type": "code",
   "execution_count": 197,
   "id": "cb53634f",
   "metadata": {},
   "outputs": [
    {
     "data": {
      "image/png": "[encoded data removed]",
      "text/plain": [
       "<Figure size 432x288 with 1 Axes>"
      ]
     },
     "metadata": {
      "needs_background": "light"
     },
     "output_type": "display_data"
    }
   ],
   "source": [
    "plotting_train_test_score(result,'param_C')"
   ]
  },
  {
   "cell_type": "code",
   "execution_count": 198,
   "id": "b9c6b465",
   "metadata": {},
   "outputs": [],
   "source": [
    "lr1 = LogisticRegression(C=1, random_state=42)\n",
    "lr1.fit(x_train1,y_train)\n",
    "y_train_pred_lr1 = lr1.predict(x_train1)\n",
    "y_test_pred_lr1 = lr1.predict(x_test1)"
   ]
  },
  {
   "cell_type": "code",
   "execution_count": 200,
   "id": "db5de07b",
   "metadata": {},
   "outputs": [
    {
     "data": {
      "image/png": "[encoded data removed]",
      "text/plain": [
       "<Figure size 432x288 with 1 Axes>"
      ]
     },
     "metadata": {
      "needs_background": "light"
     },
     "output_type": "display_data"
    }
   ],
   "source": [
    "plot_roc_auc_plot(y_train,y_test,y_train_pred_lr1,y_test_pred_lr1)"
   ]
  },
  {
   "cell_type": "code",
   "execution_count": 201,
   "id": "a56745ee",
   "metadata": {},
   "outputs": [],
   "source": [
    "# referances- https://stackoverflow.com/questions/61748441/how-to-fix-the-values-displayed-in-a-confusion-matrix-in-exponential-form-to-nor\n",
    "def heatmap_confusion_matrix(dataset):\n",
    "    ax= plt.subplot();\n",
    "    sns.heatmap(dataset, annot = True, fmt ='d', ax = ax)\n",
    "    ax.set_xlabel('Predicted labels');ax.set_ylabel('True labels'); \n",
    "    ax.set_ylim(2.0, 0)\n",
    "    ax.set_title('Confusion Matrix');\n",
    "    ax.xaxis.set_ticklabels(['0','1']); \n",
    "    ax.yaxis.set_ticklabels(['0','1']);"
   ]
  },
  {
   "cell_type": "code",
   "execution_count": 202,
   "id": "af205909",
   "metadata": {},
   "outputs": [
    {
     "name": "stdout",
     "output_type": "stream",
     "text": [
      "None\n"
     ]
    },
    {
     "data": {
      "image/png": "[encoded data removed]",
      "text/plain": [
       "<Figure size 432x288 with 2 Axes>"
      ]
     },
     "metadata": {
      "needs_background": "light"
     },
     "output_type": "display_data"
    }
   ],
   "source": [
    "cm_train = confusion_matrix(y_train,y_train_pred_lr1 )\n",
    "confusion_matrix_train = heatmap_confusion_matrix(cm_train)\n",
    "print(confusion_matrix_train)"
   ]
  },
  {
   "cell_type": "code",
   "execution_count": 203,
   "id": "22abd868",
   "metadata": {},
   "outputs": [
    {
     "name": "stdout",
     "output_type": "stream",
     "text": [
      "Test confusion matrix\n",
      "None\n"
     ]
    },
    {
     "data": {
      "image/png": "[encoded data removed]",
      "text/plain": [
       "<Figure size 432x288 with 2 Axes>"
      ]
     },
     "metadata": {
      "needs_background": "light"
     },
     "output_type": "display_data"
    }
   ],
   "source": [
    "print(\"Test confusion matrix\")\n",
    "cm_test = confusion_matrix(y_test, y_test_pred_lr1)\n",
    "confusion_matrix_test = heatmap_confusion_matrix(cm_test)\n",
    "print(confusion_matrix_test)"
   ]
  },
  {
   "cell_type": "markdown",
   "id": "d3b8cfe0",
   "metadata": {},
   "source": [
    "**observations:**\n",
    "<br> (1) Best value of C obtained from hyperparameter tuning is 1.\n",
    "<br> (2) At C = 1, the train_auc and test_value is 0.972112 and 0.971076\n",
    "<br> (3) for training set, From confusion matrix it can be seen that out of 1777 negative value total 1695 were predicted correctly and out of 13083 positive label 12957 were predicted correctly.\n",
    "<br> (4) for test set, From confusion matrix it can be seen that out of 593 negative value total 564 were predicted correctly and out of 4361 positive label 4322 were predicted correctly."
   ]
  },
  {
   "cell_type": "markdown",
   "id": "78afcfe5",
   "metadata": {},
   "source": [
    "**2. Decision Trees**:\n",
    "<br> A decision Tree is drawn upside down from root at its top and leaf nodes are at bottom which actually represent the final label of the dataset.  In decision tree, at each node there is a decision made and based on that there is split of data. Can be used for both classification and regression."
   ]
  },
  {
   "cell_type": "code",
   "execution_count": 204,
   "id": "53f1d84c",
   "metadata": {
    "scrolled": false
   },
   "outputs": [
    {
     "name": "stdout",
     "output_type": "stream",
     "text": [
      "DecisionTreeClassifier(max_depth=3, min_samples_split=50, random_state=42)\n"
     ]
    }
   ],
   "source": [
    "parameter = {'max_depth' : [1,2,3,4,5], 'min_samples_split' : [50,100,200,300]}\n",
    "\n",
    "DTC1 = DecisionTreeClassifier(random_state = 42)\n",
    "result_dt,best_param_dt = GridSearchLR(DTC1,parameter,x_train1,y_train)\n",
    "#print(result_dt)\n",
    "print(best_param_dt)"
   ]
  },
  {
   "cell_type": "code",
   "execution_count": 205,
   "id": "805445a1",
   "metadata": {},
   "outputs": [],
   "source": [
    "train_auc= result_dt['mean_train_score']\n",
    "cv_auc = result_dt['mean_test_score'] \n",
    "best_max_depth = result_dt['param_max_depth']\n",
    "best_min_samples_split = result_dt['param_min_samples_split']"
   ]
  },
  {
   "cell_type": "code",
   "execution_count": 206,
   "id": "3514697e",
   "metadata": {},
   "outputs": [
    {
     "data": {
      "image/png": "[encoded data removed]",
      "text/plain": [
       "<Figure size 432x288 with 2 Axes>"
      ]
     },
     "metadata": {
      "needs_background": "light"
     },
     "output_type": "display_data"
    }
   ],
   "source": [
    "dataset_train = result_dt.pivot('param_max_depth', 'param_min_samples_split', 'mean_train_score')\n",
    "ax = sns.heatmap(dataset_train, annot=True)"
   ]
  },
  {
   "cell_type": "code",
   "execution_count": 207,
   "id": "d4410a17",
   "metadata": {},
   "outputs": [
    {
     "data": {
      "image/png": "[encoded data removed]",
      "text/plain": [
       "<Figure size 432x288 with 2 Axes>"
      ]
     },
     "metadata": {
      "needs_background": "light"
     },
     "output_type": "display_data"
    }
   ],
   "source": [
    "dataset_train = result_dt.pivot('param_max_depth', 'param_min_samples_split', 'mean_test_score')\n",
    "ax = sns.heatmap(dataset_train, annot=True)"
   ]
  },
  {
   "cell_type": "code",
   "execution_count": 208,
   "id": "ab12cf6d",
   "metadata": {},
   "outputs": [
    {
     "data": {
      "image/png": "[encoded data removed]",
      "text/plain": [
       "<Figure size 432x288 with 1 Axes>"
      ]
     },
     "metadata": {
      "needs_background": "light"
     },
     "output_type": "display_data"
    }
   ],
   "source": [
    "DTC = DecisionTreeClassifier(max_depth= 3, min_samples_split= 50,random_state = 42)\n",
    "DTC.fit(x_train1,y_train)\n",
    "y_train_pred_dt1 = DTC.predict(x_train1)\n",
    "y_test_pred_dt1 = DTC.predict(x_test1)\n",
    "plot_roc_auc_plot(y_train,y_test,y_train_pred_dt1,y_test_pred_dt1)"
   ]
  },
  {
   "cell_type": "code",
   "execution_count": 209,
   "id": "4c2240c2",
   "metadata": {},
   "outputs": [
    {
     "name": "stdout",
     "output_type": "stream",
     "text": [
      "None\n"
     ]
    },
    {
     "data": {
      "image/png": "[encoded data removed]",
      "text/plain": [
       "<Figure size 432x288 with 2 Axes>"
      ]
     },
     "metadata": {
      "needs_background": "light"
     },
     "output_type": "display_data"
    }
   ],
   "source": [
    "cm_train = confusion_matrix(y_train,y_train_pred_dt1 )\n",
    "confusion_matrix_train = heatmap_confusion_matrix(cm_train)\n",
    "print(confusion_matrix_train)"
   ]
  },
  {
   "cell_type": "code",
   "execution_count": 210,
   "id": "1313ed38",
   "metadata": {},
   "outputs": [
    {
     "name": "stdout",
     "output_type": "stream",
     "text": [
      "Test confusion matrix\n",
      "None\n"
     ]
    },
    {
     "data": {
      "image/png": "[encoded data removed]",
      "text/plain": [
       "<Figure size 432x288 with 2 Axes>"
      ]
     },
     "metadata": {
      "needs_background": "light"
     },
     "output_type": "display_data"
    }
   ],
   "source": [
    "print(\"Test confusion matrix\")\n",
    "cm_test = confusion_matrix(y_test, y_test_pred_dt1)\n",
    "confusion_matrix_test = heatmap_confusion_matrix(cm_test)\n",
    "print(confusion_matrix_test)"
   ]
  },
  {
   "cell_type": "markdown",
   "id": "1831b8f8",
   "metadata": {},
   "source": [
    "**Observation**\n",
    "<br> (1) From GridSearchCV, best hyperparameter obtained is max_depth = 3, min_sample_split = 50. At this hyperparameter, the train_auc and test_auc values are 0.972932 and 0.971461.\n",
    "<br> (2) for training set, From confusion matrix it can be seen that out of 1777 negative value total 1699 were predicted correctly and out of 13083 positive label 12949 were predicted correctly.\n",
    "<br> (3) for test set, From confusion matrix it can be seen that out of 593 negative value total 565 were predicted correctly and out of 4361 positive label 4318 were predicted correctly.\n",
    "<br> (4) we can observe that both the model are perform very similar."
   ]
  },
  {
   "cell_type": "markdown",
   "id": "26c63031",
   "metadata": {},
   "source": [
    "**3. Random Forest**\n",
    "<br> Random Forest is based on the bagging technique where base models are decision trees.\n",
    "Bagging stands for Bootstrap Aggregation. In this technique, we make multiple sample using column and row randomization with replacement and train decision trees on each samples. And based on the decision made by each tree we decide the final outcome.\n",
    "Generally, In bagging our each base model should be of high variance and less variance so we train decision with high depth in case of random forest."
   ]
  },
  {
   "cell_type": "code",
   "execution_count": 428,
   "id": "2533357e",
   "metadata": {},
   "outputs": [
    {
     "data": {
      "text/plain": [
       "GridSearchCV(cv=3, estimator=RandomForestClassifier(random_state=42), n_jobs=-1,\n",
       "             param_grid={'max_depth': [3, 4, 5, 6],\n",
       "                         'n_estimators': [50, 100, 200, 300]},\n",
       "             return_train_score=True, scoring='roc_auc')"
      ]
     },
     "execution_count": 428,
     "metadata": {},
     "output_type": "execute_result"
    }
   ],
   "source": [
    "# since max_depth in case of decision tree is 3 and in random forest generally we train deep tree so keeping max_depth >=3.\n",
    "parameter = {'n_estimators':[50,100,200,300], 'max_depth':[3,4,5,6]} \n",
    "rf = RandomForestClassifier(random_state=42)\n",
    "GS3 = GridSearchCV(rf, param_grid = parameter, cv =3, scoring ='roc_auc', n_jobs = -1, return_train_score=True)\n",
    "GS3.fit(x_train1,y_train)"
   ]
  },
  {
   "cell_type": "code",
   "execution_count": 429,
   "id": "b5e3f24e",
   "metadata": {},
   "outputs": [
    {
     "data": {
      "text/plain": [
       "dict_keys(['bootstrap', 'ccp_alpha', 'class_weight', 'criterion', 'max_depth', 'max_features', 'max_leaf_nodes', 'max_samples', 'min_impurity_decrease', 'min_impurity_split', 'min_samples_leaf', 'min_samples_split', 'min_weight_fraction_leaf', 'n_estimators', 'n_jobs', 'oob_score', 'random_state', 'verbose', 'warm_start'])"
      ]
     },
     "execution_count": 429,
     "metadata": {},
     "output_type": "execute_result"
    }
   ],
   "source": [
    "rf.get_params().keys()"
   ]
  },
  {
   "cell_type": "code",
   "execution_count": 430,
   "id": "073aea86",
   "metadata": {},
   "outputs": [
    {
     "data": {
      "text/html": [
       "<div>\n",
       "<style scoped>\n",
       "    .dataframe tbody tr th:only-of-type {\n",
       "        vertical-align: middle;\n",
       "    }\n",
       "\n",
       "    .dataframe tbody tr th {\n",
       "        vertical-align: top;\n",
       "    }\n",
       "\n",
       "    .dataframe thead th {\n",
       "        text-align: right;\n",
       "    }\n",
       "</style>\n",
       "<table border=\"1\" class=\"dataframe\">\n",
       "  <thead>\n",
       "    <tr style=\"text-align: right;\">\n",
       "      <th></th>\n",
       "      <th>mean_fit_time</th>\n",
       "      <th>std_fit_time</th>\n",
       "      <th>mean_score_time</th>\n",
       "      <th>std_score_time</th>\n",
       "      <th>param_learning_rate</th>\n",
       "      <th>param_max_depth</th>\n",
       "      <th>param_n_estimators</th>\n",
       "      <th>params</th>\n",
       "      <th>split0_test_score</th>\n",
       "      <th>split1_test_score</th>\n",
       "      <th>split2_test_score</th>\n",
       "      <th>mean_test_score</th>\n",
       "      <th>std_test_score</th>\n",
       "      <th>rank_test_score</th>\n",
       "      <th>split0_train_score</th>\n",
       "      <th>split1_train_score</th>\n",
       "      <th>split2_train_score</th>\n",
       "      <th>mean_train_score</th>\n",
       "      <th>std_train_score</th>\n",
       "    </tr>\n",
       "  </thead>\n",
       "  <tbody>\n",
       "    <tr>\n",
       "      <th>0</th>\n",
       "      <td>4.464937</td>\n",
       "      <td>0.078361</td>\n",
       "      <td>0.022385</td>\n",
       "      <td>0.000917</td>\n",
       "      <td>0.07</td>\n",
       "      <td>1</td>\n",
       "      <td>100</td>\n",
       "      <td>{'learning_rate': 0.07, 'max_depth': 1, 'n_est...</td>\n",
       "      <td>0.981214</td>\n",
       "      <td>0.986364</td>\n",
       "      <td>0.990158</td>\n",
       "      <td>0.985912</td>\n",
       "      <td>0.003666</td>\n",
       "      <td>16</td>\n",
       "      <td>0.989969</td>\n",
       "      <td>0.989616</td>\n",
       "      <td>0.986660</td>\n",
       "      <td>0.988748</td>\n",
       "      <td>0.001484</td>\n",
       "    </tr>\n",
       "    <tr>\n",
       "      <th>1</th>\n",
       "      <td>8.568810</td>\n",
       "      <td>0.062529</td>\n",
       "      <td>0.027544</td>\n",
       "      <td>0.003888</td>\n",
       "      <td>0.07</td>\n",
       "      <td>1</td>\n",
       "      <td>200</td>\n",
       "      <td>{'learning_rate': 0.07, 'max_depth': 1, 'n_est...</td>\n",
       "      <td>0.985215</td>\n",
       "      <td>0.987544</td>\n",
       "      <td>0.990754</td>\n",
       "      <td>0.987837</td>\n",
       "      <td>0.002271</td>\n",
       "      <td>15</td>\n",
       "      <td>0.993439</td>\n",
       "      <td>0.993986</td>\n",
       "      <td>0.991076</td>\n",
       "      <td>0.992834</td>\n",
       "      <td>0.001263</td>\n",
       "    </tr>\n",
       "    <tr>\n",
       "      <th>2</th>\n",
       "      <td>12.811542</td>\n",
       "      <td>0.037471</td>\n",
       "      <td>0.023943</td>\n",
       "      <td>0.005360</td>\n",
       "      <td>0.07</td>\n",
       "      <td>1</td>\n",
       "      <td>300</td>\n",
       "      <td>{'learning_rate': 0.07, 'max_depth': 1, 'n_est...</td>\n",
       "      <td>0.986677</td>\n",
       "      <td>0.988032</td>\n",
       "      <td>0.990879</td>\n",
       "      <td>0.988529</td>\n",
       "      <td>0.001751</td>\n",
       "      <td>11</td>\n",
       "      <td>0.995211</td>\n",
       "      <td>0.995760</td>\n",
       "      <td>0.993352</td>\n",
       "      <td>0.994774</td>\n",
       "      <td>0.001031</td>\n",
       "    </tr>\n",
       "    <tr>\n",
       "      <th>3</th>\n",
       "      <td>17.419351</td>\n",
       "      <td>0.178199</td>\n",
       "      <td>0.025489</td>\n",
       "      <td>0.003334</td>\n",
       "      <td>0.07</td>\n",
       "      <td>1</td>\n",
       "      <td>400</td>\n",
       "      <td>{'learning_rate': 0.07, 'max_depth': 1, 'n_est...</td>\n",
       "      <td>0.986584</td>\n",
       "      <td>0.988021</td>\n",
       "      <td>0.991299</td>\n",
       "      <td>0.988635</td>\n",
       "      <td>0.001973</td>\n",
       "      <td>9</td>\n",
       "      <td>0.996093</td>\n",
       "      <td>0.996734</td>\n",
       "      <td>0.994685</td>\n",
       "      <td>0.995837</td>\n",
       "      <td>0.000856</td>\n",
       "    </tr>\n",
       "    <tr>\n",
       "      <th>4</th>\n",
       "      <td>7.179209</td>\n",
       "      <td>0.069373</td>\n",
       "      <td>0.020334</td>\n",
       "      <td>0.002488</td>\n",
       "      <td>0.07</td>\n",
       "      <td>2</td>\n",
       "      <td>100</td>\n",
       "      <td>{'learning_rate': 0.07, 'max_depth': 2, 'n_est...</td>\n",
       "      <td>0.984339</td>\n",
       "      <td>0.987763</td>\n",
       "      <td>0.992306</td>\n",
       "      <td>0.988136</td>\n",
       "      <td>0.003263</td>\n",
       "      <td>14</td>\n",
       "      <td>0.995214</td>\n",
       "      <td>0.995054</td>\n",
       "      <td>0.993157</td>\n",
       "      <td>0.994475</td>\n",
       "      <td>0.000934</td>\n",
       "    </tr>\n",
       "  </tbody>\n",
       "</table>\n",
       "</div>"
      ],
      "text/plain": [
       "   mean_fit_time  std_fit_time  mean_score_time  std_score_time  \\\n",
       "0       4.464937      0.078361         0.022385        0.000917   \n",
       "1       8.568810      0.062529         0.027544        0.003888   \n",
       "2      12.811542      0.037471         0.023943        0.005360   \n",
       "3      17.419351      0.178199         0.025489        0.003334   \n",
       "4       7.179209      0.069373         0.020334        0.002488   \n",
       "\n",
       "  param_learning_rate param_max_depth param_n_estimators  \\\n",
       "0                0.07               1                100   \n",
       "1                0.07               1                200   \n",
       "2                0.07               1                300   \n",
       "3                0.07               1                400   \n",
       "4                0.07               2                100   \n",
       "\n",
       "                                              params  split0_test_score  \\\n",
       "0  {'learning_rate': 0.07, 'max_depth': 1, 'n_est...           0.981214   \n",
       "1  {'learning_rate': 0.07, 'max_depth': 1, 'n_est...           0.985215   \n",
       "2  {'learning_rate': 0.07, 'max_depth': 1, 'n_est...           0.986677   \n",
       "3  {'learning_rate': 0.07, 'max_depth': 1, 'n_est...           0.986584   \n",
       "4  {'learning_rate': 0.07, 'max_depth': 2, 'n_est...           0.984339   \n",
       "\n",
       "   split1_test_score  split2_test_score  mean_test_score  std_test_score  \\\n",
       "0           0.986364           0.990158         0.985912        0.003666   \n",
       "1           0.987544           0.990754         0.987837        0.002271   \n",
       "2           0.988032           0.990879         0.988529        0.001751   \n",
       "3           0.988021           0.991299         0.988635        0.001973   \n",
       "4           0.987763           0.992306         0.988136        0.003263   \n",
       "\n",
       "   rank_test_score  split0_train_score  split1_train_score  \\\n",
       "0               16            0.989969            0.989616   \n",
       "1               15            0.993439            0.993986   \n",
       "2               11            0.995211            0.995760   \n",
       "3                9            0.996093            0.996734   \n",
       "4               14            0.995214            0.995054   \n",
       "\n",
       "   split2_train_score  mean_train_score  std_train_score  \n",
       "0            0.986660          0.988748         0.001484  \n",
       "1            0.991076          0.992834         0.001263  \n",
       "2            0.993352          0.994774         0.001031  \n",
       "3            0.994685          0.995837         0.000856  \n",
       "4            0.993157          0.994475         0.000934  "
      ]
     },
     "execution_count": 430,
     "metadata": {},
     "output_type": "execute_result"
    }
   ],
   "source": [
    "results_rf = pd.DataFrame.from_dict(GS1.cv_results_)\n",
    "results_rf.head()"
   ]
  },
  {
   "cell_type": "code",
   "execution_count": 431,
   "id": "51597929",
   "metadata": {},
   "outputs": [
    {
     "data": {
      "image/png": "[encoded data removed]",
      "text/plain": [
       "<Figure size 432x288 with 2 Axes>"
      ]
     },
     "metadata": {
      "needs_background": "light"
     },
     "output_type": "display_data"
    }
   ],
   "source": [
    "dataset_train = result_rf.pivot('param_max_depth', 'param_n_estimators', 'mean_train_score')\n",
    "ax = sns.heatmap(dataset_train, annot=True)"
   ]
  },
  {
   "cell_type": "code",
   "execution_count": 432,
   "id": "bd6b2427",
   "metadata": {},
   "outputs": [
    {
     "data": {
      "image/png": "[encoded data removed]",
      "text/plain": [
       "<Figure size 432x288 with 2 Axes>"
      ]
     },
     "metadata": {
      "needs_background": "light"
     },
     "output_type": "display_data"
    }
   ],
   "source": [
    "dataset_test = result_rf.pivot('param_max_depth', 'param_n_estimators', 'mean_test_score')\n",
    "ax = sns.heatmap(dataset_test, annot=True)"
   ]
  },
  {
   "cell_type": "code",
   "execution_count": 433,
   "id": "fd712605",
   "metadata": {},
   "outputs": [
    {
     "data": {
      "text/plain": [
       "RandomForestClassifier(max_depth=6, n_estimators=300, random_state=42)"
      ]
     },
     "execution_count": 433,
     "metadata": {},
     "output_type": "execute_result"
    }
   ],
   "source": [
    "GS3.best_estimator_"
   ]
  },
  {
   "cell_type": "code",
   "execution_count": 434,
   "id": "efe63d91",
   "metadata": {},
   "outputs": [
    {
     "data": {
      "image/png": "[encoded data removed]",
      "text/plain": [
       "<Figure size 432x288 with 1 Axes>"
      ]
     },
     "metadata": {
      "needs_background": "light"
     },
     "output_type": "display_data"
    }
   ],
   "source": [
    "rf1 = RandomForestClassifier(max_depth=6,  n_estimators=300,\n",
    "                       random_state=42)\n",
    "rf1.fit(x_train1,y_train)\n",
    "y_train_pred_rf1 = rf1.predict(x_train1)\n",
    "y_test_pred_rf1 = rf1.predict(x_test1)\n",
    "plot_roc_auc_plot(y_train,y_test,y_train_pred_rf1,y_test_pred_rf1)"
   ]
  },
  {
   "cell_type": "code",
   "execution_count": 435,
   "id": "319a33b8",
   "metadata": {},
   "outputs": [
    {
     "name": "stdout",
     "output_type": "stream",
     "text": [
      "None\n"
     ]
    },
    {
     "data": {
      "image/png": "[encoded data removed]",
      "text/plain": [
       "<Figure size 432x288 with 2 Axes>"
      ]
     },
     "metadata": {
      "needs_background": "light"
     },
     "output_type": "display_data"
    }
   ],
   "source": [
    "cm_train = confusion_matrix(y_train,y_train_pred_rf1 )\n",
    "confusion_matrix_train = heatmap_confusion_matrix(cm_train)\n",
    "print(confusion_matrix_train)"
   ]
  },
  {
   "cell_type": "code",
   "execution_count": 436,
   "id": "877b96ad",
   "metadata": {},
   "outputs": [
    {
     "name": "stdout",
     "output_type": "stream",
     "text": [
      "Test confusion matrix\n",
      "None\n"
     ]
    },
    {
     "data": {
      "image/png": "[encoded data removed]",
      "text/plain": [
       "<Figure size 432x288 with 2 Axes>"
      ]
     },
     "metadata": {
      "needs_background": "light"
     },
     "output_type": "display_data"
    }
   ],
   "source": [
    "print(\"Test confusion matrix\")\n",
    "cm_test = confusion_matrix(y_test, y_test_pred_rf1)\n",
    "confusion_matrix_test = heatmap_confusion_matrix(cm_test)\n",
    "print(confusion_matrix_test)"
   ]
  },
  {
   "cell_type": "markdown",
   "id": "bb2bb191",
   "metadata": {},
   "source": [
    "**Observation**\n",
    "<br> (1) From GridSearchCV, best hyperparameter obtained is max_depth = 5, min_sample_split = 150, n_estimators = 300. At this hyperparameter, the train_auc and test_auc values are 0.5 and 0.5.\n",
    "<br> (2) for both training and test data, it is simply predicting all values as 1 which is highly biased. \n",
    "<br> (3) Random Forest is performing as good as the random model and way worse than logistic regression and Decision trees."
   ]
  },
  {
   "cell_type": "markdown",
   "id": "234b757c",
   "metadata": {},
   "source": [
    "**4. Gradient Boosting**\n",
    "<br>  Xgboost is an implementation of Gradient Boosting Decision Trees which based on the concept of boosting. In Boosting, there is sequential arrangement of model in which each model train on the output obtained from the previous model. \n",
    "In Boosting we generally train high bias and low variance model and with each estimator we try to reduce the bias of the model. In Gradient Boosting Decision Trees, the base models are the decision tree of very low depth. "
   ]
  },
  {
   "cell_type": "code",
   "execution_count": 79,
   "id": "cd2f9ca7",
   "metadata": {},
   "outputs": [
    {
     "name": "stdout",
     "output_type": "stream",
     "text": [
      "dict_keys(['objective', 'use_label_encoder', 'base_score', 'booster', 'colsample_bylevel', 'colsample_bynode', 'colsample_bytree', 'enable_categorical', 'gamma', 'gpu_id', 'importance_type', 'interaction_constraints', 'learning_rate', 'max_delta_step', 'max_depth', 'min_child_weight', 'missing', 'monotone_constraints', 'n_estimators', 'n_jobs', 'num_parallel_tree', 'predictor', 'random_state', 'reg_alpha', 'reg_lambda', 'scale_pos_weight', 'subsample', 'tree_method', 'validate_parameters', 'verbosity'])\n",
      "[09:36:06] WARNING: C:/Users/Administrator/workspace/xgboost-win64_release_1.5.1/src/learner.cc:1115: Starting in XGBoost 1.3.0, the default evaluation metric used with the objective 'binary:logistic' was changed from 'error' to 'logloss'. Explicitly set eval_metric if you'd like to restore the old behavior.\n"
     ]
    },
    {
     "data": {
      "text/plain": [
       "GridSearchCV(cv=3,\n",
       "             estimator=XGBClassifier(base_score=None, booster=None,\n",
       "                                     colsample_bylevel=None,\n",
       "                                     colsample_bynode=None,\n",
       "                                     colsample_bytree=None,\n",
       "                                     enable_categorical=False, gamma=None,\n",
       "                                     gpu_id=None, importance_type=None,\n",
       "                                     interaction_constraints=None,\n",
       "                                     learning_rate=None, max_delta_step=None,\n",
       "                                     max_depth=None, min_child_weight=None,\n",
       "                                     missing=nan, monotone_constraints=None,\n",
       "                                     n_estimators=100, n_jobs=None,\n",
       "                                     num_parallel_tree=None, predictor=None,\n",
       "                                     random_state=None, reg_alpha=None,\n",
       "                                     reg_lambda=None, scale_pos_weight=None,\n",
       "                                     subsample=None, tree_method=None,\n",
       "                                     validate_parameters=None, verbosity=None),\n",
       "             n_jobs=-1,\n",
       "             param_grid={'learning_rate': [0.07], 'max_depth': [1, 2, 3, 4],\n",
       "                         'n_estimators': [100, 200, 300, 400]},\n",
       "             return_train_score=True, scoring='roc_auc')"
      ]
     },
     "execution_count": 79,
     "metadata": {},
     "output_type": "execute_result"
    }
   ],
   "source": [
    "## hyperparameter tuning \n",
    "# generally learning_rate should be less than 0.07 to avoid overfitting.\n",
    "parameter = {'max_depth' : [1,2, 3, 4], 'n_estimators' : [100, 200,300, 400],'learning_rate': [0.07]}\n",
    "xgbc1 = XGBClassifier()\n",
    "print(xgbc1.get_params().keys())\n",
    "GS1 = GridSearchCV(xgbc1, param_grid = parameter, cv =3, scoring ='roc_auc', n_jobs = -1, return_train_score=True)\n",
    "GS1.fit(x_train1, y_train)"
   ]
  },
  {
   "cell_type": "code",
   "execution_count": 80,
   "id": "c59cb06c",
   "metadata": {},
   "outputs": [
    {
     "data": {
      "text/html": [
       "<div>\n",
       "<style scoped>\n",
       "    .dataframe tbody tr th:only-of-type {\n",
       "        vertical-align: middle;\n",
       "    }\n",
       "\n",
       "    .dataframe tbody tr th {\n",
       "        vertical-align: top;\n",
       "    }\n",
       "\n",
       "    .dataframe thead th {\n",
       "        text-align: right;\n",
       "    }\n",
       "</style>\n",
       "<table border=\"1\" class=\"dataframe\">\n",
       "  <thead>\n",
       "    <tr style=\"text-align: right;\">\n",
       "      <th></th>\n",
       "      <th>mean_fit_time</th>\n",
       "      <th>std_fit_time</th>\n",
       "      <th>mean_score_time</th>\n",
       "      <th>std_score_time</th>\n",
       "      <th>param_learning_rate</th>\n",
       "      <th>param_max_depth</th>\n",
       "      <th>param_n_estimators</th>\n",
       "      <th>params</th>\n",
       "      <th>split0_test_score</th>\n",
       "      <th>split1_test_score</th>\n",
       "      <th>split2_test_score</th>\n",
       "      <th>mean_test_score</th>\n",
       "      <th>std_test_score</th>\n",
       "      <th>rank_test_score</th>\n",
       "      <th>split0_train_score</th>\n",
       "      <th>split1_train_score</th>\n",
       "      <th>split2_train_score</th>\n",
       "      <th>mean_train_score</th>\n",
       "      <th>std_train_score</th>\n",
       "    </tr>\n",
       "  </thead>\n",
       "  <tbody>\n",
       "    <tr>\n",
       "      <th>0</th>\n",
       "      <td>4.464937</td>\n",
       "      <td>0.078361</td>\n",
       "      <td>0.022385</td>\n",
       "      <td>0.000917</td>\n",
       "      <td>0.07</td>\n",
       "      <td>1</td>\n",
       "      <td>100</td>\n",
       "      <td>{'learning_rate': 0.07, 'max_depth': 1, 'n_est...</td>\n",
       "      <td>0.981214</td>\n",
       "      <td>0.986364</td>\n",
       "      <td>0.990158</td>\n",
       "      <td>0.985912</td>\n",
       "      <td>0.003666</td>\n",
       "      <td>16</td>\n",
       "      <td>0.989969</td>\n",
       "      <td>0.989616</td>\n",
       "      <td>0.986660</td>\n",
       "      <td>0.988748</td>\n",
       "      <td>0.001484</td>\n",
       "    </tr>\n",
       "    <tr>\n",
       "      <th>1</th>\n",
       "      <td>8.568810</td>\n",
       "      <td>0.062529</td>\n",
       "      <td>0.027544</td>\n",
       "      <td>0.003888</td>\n",
       "      <td>0.07</td>\n",
       "      <td>1</td>\n",
       "      <td>200</td>\n",
       "      <td>{'learning_rate': 0.07, 'max_depth': 1, 'n_est...</td>\n",
       "      <td>0.985215</td>\n",
       "      <td>0.987544</td>\n",
       "      <td>0.990754</td>\n",
       "      <td>0.987837</td>\n",
       "      <td>0.002271</td>\n",
       "      <td>15</td>\n",
       "      <td>0.993439</td>\n",
       "      <td>0.993986</td>\n",
       "      <td>0.991076</td>\n",
       "      <td>0.992834</td>\n",
       "      <td>0.001263</td>\n",
       "    </tr>\n",
       "    <tr>\n",
       "      <th>2</th>\n",
       "      <td>12.811542</td>\n",
       "      <td>0.037471</td>\n",
       "      <td>0.023943</td>\n",
       "      <td>0.005360</td>\n",
       "      <td>0.07</td>\n",
       "      <td>1</td>\n",
       "      <td>300</td>\n",
       "      <td>{'learning_rate': 0.07, 'max_depth': 1, 'n_est...</td>\n",
       "      <td>0.986677</td>\n",
       "      <td>0.988032</td>\n",
       "      <td>0.990879</td>\n",
       "      <td>0.988529</td>\n",
       "      <td>0.001751</td>\n",
       "      <td>11</td>\n",
       "      <td>0.995211</td>\n",
       "      <td>0.995760</td>\n",
       "      <td>0.993352</td>\n",
       "      <td>0.994774</td>\n",
       "      <td>0.001031</td>\n",
       "    </tr>\n",
       "    <tr>\n",
       "      <th>3</th>\n",
       "      <td>17.419351</td>\n",
       "      <td>0.178199</td>\n",
       "      <td>0.025489</td>\n",
       "      <td>0.003334</td>\n",
       "      <td>0.07</td>\n",
       "      <td>1</td>\n",
       "      <td>400</td>\n",
       "      <td>{'learning_rate': 0.07, 'max_depth': 1, 'n_est...</td>\n",
       "      <td>0.986584</td>\n",
       "      <td>0.988021</td>\n",
       "      <td>0.991299</td>\n",
       "      <td>0.988635</td>\n",
       "      <td>0.001973</td>\n",
       "      <td>9</td>\n",
       "      <td>0.996093</td>\n",
       "      <td>0.996734</td>\n",
       "      <td>0.994685</td>\n",
       "      <td>0.995837</td>\n",
       "      <td>0.000856</td>\n",
       "    </tr>\n",
       "    <tr>\n",
       "      <th>4</th>\n",
       "      <td>7.179209</td>\n",
       "      <td>0.069373</td>\n",
       "      <td>0.020334</td>\n",
       "      <td>0.002488</td>\n",
       "      <td>0.07</td>\n",
       "      <td>2</td>\n",
       "      <td>100</td>\n",
       "      <td>{'learning_rate': 0.07, 'max_depth': 2, 'n_est...</td>\n",
       "      <td>0.984339</td>\n",
       "      <td>0.987763</td>\n",
       "      <td>0.992306</td>\n",
       "      <td>0.988136</td>\n",
       "      <td>0.003263</td>\n",
       "      <td>14</td>\n",
       "      <td>0.995214</td>\n",
       "      <td>0.995054</td>\n",
       "      <td>0.993157</td>\n",
       "      <td>0.994475</td>\n",
       "      <td>0.000934</td>\n",
       "    </tr>\n",
       "  </tbody>\n",
       "</table>\n",
       "</div>"
      ],
      "text/plain": [
       "   mean_fit_time  std_fit_time  mean_score_time  std_score_time  \\\n",
       "0       4.464937      0.078361         0.022385        0.000917   \n",
       "1       8.568810      0.062529         0.027544        0.003888   \n",
       "2      12.811542      0.037471         0.023943        0.005360   \n",
       "3      17.419351      0.178199         0.025489        0.003334   \n",
       "4       7.179209      0.069373         0.020334        0.002488   \n",
       "\n",
       "  param_learning_rate param_max_depth param_n_estimators  \\\n",
       "0                0.07               1                100   \n",
       "1                0.07               1                200   \n",
       "2                0.07               1                300   \n",
       "3                0.07               1                400   \n",
       "4                0.07               2                100   \n",
       "\n",
       "                                              params  split0_test_score  \\\n",
       "0  {'learning_rate': 0.07, 'max_depth': 1, 'n_est...           0.981214   \n",
       "1  {'learning_rate': 0.07, 'max_depth': 1, 'n_est...           0.985215   \n",
       "2  {'learning_rate': 0.07, 'max_depth': 1, 'n_est...           0.986677   \n",
       "3  {'learning_rate': 0.07, 'max_depth': 1, 'n_est...           0.986584   \n",
       "4  {'learning_rate': 0.07, 'max_depth': 2, 'n_est...           0.984339   \n",
       "\n",
       "   split1_test_score  split2_test_score  mean_test_score  std_test_score  \\\n",
       "0           0.986364           0.990158         0.985912        0.003666   \n",
       "1           0.987544           0.990754         0.987837        0.002271   \n",
       "2           0.988032           0.990879         0.988529        0.001751   \n",
       "3           0.988021           0.991299         0.988635        0.001973   \n",
       "4           0.987763           0.992306         0.988136        0.003263   \n",
       "\n",
       "   rank_test_score  split0_train_score  split1_train_score  \\\n",
       "0               16            0.989969            0.989616   \n",
       "1               15            0.993439            0.993986   \n",
       "2               11            0.995211            0.995760   \n",
       "3                9            0.996093            0.996734   \n",
       "4               14            0.995214            0.995054   \n",
       "\n",
       "   split2_train_score  mean_train_score  std_train_score  \n",
       "0            0.986660          0.988748         0.001484  \n",
       "1            0.991076          0.992834         0.001263  \n",
       "2            0.993352          0.994774         0.001031  \n",
       "3            0.994685          0.995837         0.000856  \n",
       "4            0.993157          0.994475         0.000934  "
      ]
     },
     "execution_count": 80,
     "metadata": {},
     "output_type": "execute_result"
    }
   ],
   "source": [
    "results_gbdt = pd.DataFrame.from_dict(GS1.cv_results_)\n",
    "results_gbdt.head()"
   ]
  },
  {
   "cell_type": "code",
   "execution_count": 81,
   "id": "8d7c099f",
   "metadata": {},
   "outputs": [
    {
     "data": {
      "text/plain": [
       "Text(0.5,1,'train')"
      ]
     },
     "execution_count": 81,
     "metadata": {},
     "output_type": "execute_result"
    },
    {
     "data": {
      "image/png": "[encoded data removed]",
      "text/plain": [
       "<Figure size 432x288 with 2 Axes>"
      ]
     },
     "metadata": {
      "needs_background": "light"
     },
     "output_type": "display_data"
    }
   ],
   "source": [
    "dataset_train1 = results_gbdt.pivot('param_max_depth', 'param_n_estimators', 'mean_train_score')\n",
    "ax = sns.heatmap(dataset_train1, annot=True)\n",
    "ax.set_title('train')"
   ]
  },
  {
   "cell_type": "code",
   "execution_count": 82,
   "id": "653d1f62",
   "metadata": {},
   "outputs": [
    {
     "data": {
      "text/plain": [
       "Text(0.5,1,'cv')"
      ]
     },
     "execution_count": 82,
     "metadata": {},
     "output_type": "execute_result"
    },
    {
     "data": {
      "image/png": "[encoded data removed]",
      "text/plain": [
       "<Figure size 432x288 with 2 Axes>"
      ]
     },
     "metadata": {
      "needs_background": "light"
     },
     "output_type": "display_data"
    }
   ],
   "source": [
    "dataset_test1 = results_gbdt.pivot('param_max_depth', 'param_n_estimators', 'mean_test_score')\n",
    "ax = sns.heatmap(dataset_test1, annot=True)\n",
    "ax.set_title(\"cv\")"
   ]
  },
  {
   "cell_type": "code",
   "execution_count": 83,
   "id": "52b12f0f",
   "metadata": {},
   "outputs": [
    {
     "data": {
      "text/plain": [
       "XGBClassifier(base_score=0.5, booster='gbtree', colsample_bylevel=1,\n",
       "              colsample_bynode=1, colsample_bytree=1, enable_categorical=False,\n",
       "              gamma=0, gpu_id=-1, importance_type=None,\n",
       "              interaction_constraints='', learning_rate=0.07, max_delta_step=0,\n",
       "              max_depth=4, min_child_weight=1, missing=nan,\n",
       "              monotone_constraints='()', n_estimators=200, n_jobs=16,\n",
       "              num_parallel_tree=1, predictor='auto', random_state=0,\n",
       "              reg_alpha=0, reg_lambda=1, scale_pos_weight=1, subsample=1,\n",
       "              tree_method='exact', validate_parameters=1, verbosity=None)"
      ]
     },
     "execution_count": 83,
     "metadata": {},
     "output_type": "execute_result"
    }
   ],
   "source": [
    "GS1.best_estimator_"
   ]
  },
  {
   "cell_type": "code",
   "execution_count": 84,
   "id": "999ff7e9",
   "metadata": {},
   "outputs": [
    {
     "name": "stdout",
     "output_type": "stream",
     "text": [
      "[10:29:17] WARNING: C:/Users/Administrator/workspace/xgboost-win64_release_1.5.1/src/learner.cc:1115: Starting in XGBoost 1.3.0, the default evaluation metric used with the objective 'binary:logistic' was changed from 'error' to 'logloss'. Explicitly set eval_metric if you'd like to restore the old behavior.\n"
     ]
    },
    {
     "data": {
      "text/plain": [
       "XGBClassifier(base_score=0.5, booster='gbtree', colsample_bylevel=1,\n",
       "              colsample_bynode=1, colsample_bytree=1, enable_categorical=False,\n",
       "              gamma=0, gpu_id=-1, importance_type=None,\n",
       "              interaction_constraints='', learning_rate=0.07, max_delta_step=0,\n",
       "              max_depth=4, min_child_weight=1, missing=nan,\n",
       "              monotone_constraints='()', n_estimators=200, n_jobs=16,\n",
       "              num_parallel_tree=1, predictor='auto', random_state=0,\n",
       "              reg_alpha=0, reg_lambda=1, scale_pos_weight=1, subsample=1,\n",
       "              tree_method='exact', validate_parameters=1, verbosity=None)"
      ]
     },
     "execution_count": 84,
     "metadata": {},
     "output_type": "execute_result"
    }
   ],
   "source": [
    "clf1 = XGBClassifier(base_score=0.5, booster='gbtree', colsample_bylevel=1,\n",
    "              colsample_bynode=1, colsample_bytree=1, enable_categorical=False,\n",
    "              gamma=0, gpu_id=-1, importance_type=None,\n",
    "              interaction_constraints='', learning_rate=0.07, max_delta_step=0,\n",
    "              max_depth=4, min_child_weight=1, \n",
    "              monotone_constraints='()', n_estimators=200, n_jobs=16,\n",
    "              num_parallel_tree=1, predictor='auto', random_state=0,\n",
    "              reg_alpha=0, reg_lambda=1, scale_pos_weight=1, subsample=1,\n",
    "              tree_method='exact', validate_parameters=1, verbosity=None)\n",
    "clf1.fit(x_train1,y_train)"
   ]
  },
  {
   "cell_type": "code",
   "execution_count": 87,
   "id": "ab43ffe0",
   "metadata": {},
   "outputs": [
    {
     "data": {
      "image/png": "[encoded data removed]",
      "text/plain": [
       "<Figure size 432x288 with 1 Axes>"
      ]
     },
     "metadata": {
      "needs_background": "light"
     },
     "output_type": "display_data"
    }
   ],
   "source": [
    "y_train_pred_gd1 = clf1.predict(x_train1)\n",
    "y_test_pred_gd1 =clf1.predict(x_test1)\n",
    "plot_roc_auc_plot(y_train,y_test,y_train_pred_gd1,y_test_pred_gd1)"
   ]
  },
  {
   "cell_type": "code",
   "execution_count": 90,
   "id": "3bd7c50b",
   "metadata": {},
   "outputs": [
    {
     "name": "stdout",
     "output_type": "stream",
     "text": [
      "None\n"
     ]
    },
    {
     "data": {
      "image/png": "[encoded data removed]",
      "text/plain": [
       "<Figure size 432x288 with 2 Axes>"
      ]
     },
     "metadata": {
      "needs_background": "light"
     },
     "output_type": "display_data"
    }
   ],
   "source": [
    "cm_train = confusion_matrix(y_train,y_train_pred_gd1 )\n",
    "confusion_matrix_train = heatmap_confusion_matrix(cm_train)\n",
    "print(confusion_matrix_train)"
   ]
  },
  {
   "cell_type": "code",
   "execution_count": 91,
   "id": "c795ea3c",
   "metadata": {},
   "outputs": [
    {
     "name": "stdout",
     "output_type": "stream",
     "text": [
      "Test confusion matrix\n",
      "None\n"
     ]
    },
    {
     "data": {
      "image/png": "[encoded data removed]",
      "text/plain": [
       "<Figure size 432x288 with 2 Axes>"
      ]
     },
     "metadata": {
      "needs_background": "light"
     },
     "output_type": "display_data"
    }
   ],
   "source": [
    "print(\"Test confusion matrix\")\n",
    "cm_test = confusion_matrix(y_test, y_test_pred_gd1)\n",
    "confusion_matrix_test = heatmap_confusion_matrix(cm_test)\n",
    "print(confusion_matrix_test)"
   ]
  },
  {
   "cell_type": "markdown",
   "id": "bdc8435d",
   "metadata": {},
   "source": [
    "**observation**\n",
    "<br> (1) From GridSearchCV, best hyperparameter obtained is max_depth = 4, n_estimators = 200. At this hyperparameter, the train_auc and test_auc values are 0.980033 and 0.971077.\n",
    "<br> (2) for training set, From confusion matrix it can be seen that out of 1777 negative value total 1715 were predicted correctly and out of 13083 positive label 13017 were predicted correctly.\n",
    "<br> (3) for test set, From confusion matrix it can be seen that out of 593 negative value total 564 were predicted correctly and out of 4361 positive label 4322 were predicted correctly.\n",
    "<br> (4) logistic regression, decision trees and xgboost are performing very similar."
   ]
  },
  {
   "cell_type": "markdown",
   "id": "75c3d927",
   "metadata": {},
   "source": [
    "# Model training on dataset 2:"
   ]
  },
  {
   "cell_type": "markdown",
   "id": "e39d1a21",
   "metadata": {},
   "source": [
    "**1. Logistic Regression**"
   ]
  },
  {
   "cell_type": "code",
   "execution_count": 399,
   "id": "24c8158e",
   "metadata": {},
   "outputs": [
    {
     "name": "stdout",
     "output_type": "stream",
     "text": [
      "LogisticRegression(C=1, random_state=42)\n"
     ]
    }
   ],
   "source": [
    "parameter = {'C':[10**i for i in range(-3,1)]}\n",
    "lr = LogisticRegression(random_state=42)\n",
    "result2,best_param2 = GridSearchLR(lr,parameter,x_train2,y_train)\n",
    "print(best_param)"
   ]
  },
  {
   "cell_type": "code",
   "execution_count": 400,
   "id": "60397355",
   "metadata": {},
   "outputs": [
    {
     "data": {
      "image/png": "[encoded data removed]",
      "text/plain": [
       "<Figure size 432x288 with 1 Axes>"
      ]
     },
     "metadata": {
      "needs_background": "light"
     },
     "output_type": "display_data"
    }
   ],
   "source": [
    "plotting_train_test_score(result2,'param_C')"
   ]
  },
  {
   "cell_type": "code",
   "execution_count": 401,
   "id": "0136d731",
   "metadata": {},
   "outputs": [
    {
     "data": {
      "image/png": "[encoded data removed]",
      "text/plain": [
       "<Figure size 432x288 with 1 Axes>"
      ]
     },
     "metadata": {
      "needs_background": "light"
     },
     "output_type": "display_data"
    }
   ],
   "source": [
    "lr2 = LogisticRegression(C=1, random_state=42)\n",
    "lr2.fit(x_train2,y_train)\n",
    "y_train_pred_lr2 = lr2.predict(x_train2)\n",
    "y_test_pred_lr2 = lr2.predict(x_test2)\n",
    "plot_roc_auc_plot(y_train,y_test,y_train_pred_lr2,y_test_pred_lr2)"
   ]
  },
  {
   "cell_type": "code",
   "execution_count": 402,
   "id": "c36435ec",
   "metadata": {},
   "outputs": [
    {
     "name": "stdout",
     "output_type": "stream",
     "text": [
      "None\n"
     ]
    },
    {
     "data": {
      "image/png": "[encoded data removed]",
      "text/plain": [
       "<Figure size 432x288 with 2 Axes>"
      ]
     },
     "metadata": {
      "needs_background": "light"
     },
     "output_type": "display_data"
    }
   ],
   "source": [
    "cm_train = confusion_matrix(y_train,y_train_pred_lr2 )\n",
    "confusion_matrix_train = heatmap_confusion_matrix(cm_train)\n",
    "print(confusion_matrix_train)"
   ]
  },
  {
   "cell_type": "code",
   "execution_count": 403,
   "id": "c48f7124",
   "metadata": {},
   "outputs": [
    {
     "name": "stdout",
     "output_type": "stream",
     "text": [
      "Test confusion matrix\n",
      "None\n"
     ]
    },
    {
     "data": {
      "image/png": "[encoded data removed]",
      "text/plain": [
       "<Figure size 432x288 with 2 Axes>"
      ]
     },
     "metadata": {
      "needs_background": "light"
     },
     "output_type": "display_data"
    }
   ],
   "source": [
    "print(\"Test confusion matrix\")\n",
    "cm_test = confusion_matrix(y_test, y_test_pred_lr2)\n",
    "confusion_matrix_test = heatmap_confusion_matrix(cm_test)\n",
    "print(confusion_matrix_test)"
   ]
  },
  {
   "cell_type": "markdown",
   "id": "b08361b9",
   "metadata": {},
   "source": [
    "**observations:**\n",
    "<br> (1) Best value of C obtained from hyperparameter tuning is 1.\n",
    "<br> (2) At C = 1, the train_auc and test_value is 0.971705 and 0.971805.\n",
    "<br> (3) for training set, From confusion matrix it can be seen that out of 1777 negative value total 1696 were predicted correctly and out of 13083 positive label 12939 were predicted correctly.\n",
    "<br> (4) for test set, From confusion matrix it can be seen that out of 593 negative value total 565 were predicted correctly and out of 4361 positive label 4321 were predicted correctly.\n",
    "<br> (5) performing very similar as in case of dataset I."
   ]
  },
  {
   "cell_type": "markdown",
   "id": "32313a6d",
   "metadata": {},
   "source": [
    "**2.Decision Trees**"
   ]
  },
  {
   "cell_type": "code",
   "execution_count": 404,
   "id": "dc19a9a7",
   "metadata": {},
   "outputs": [
    {
     "name": "stdout",
     "output_type": "stream",
     "text": [
      "DecisionTreeClassifier(max_depth=3, min_samples_split=50, random_state=42)\n"
     ]
    }
   ],
   "source": [
    "parameter = {'max_depth' : [1,2,3,4,5], 'min_samples_split' : [50,100,150,200]}\n",
    "\n",
    "DTC2 = DecisionTreeClassifier(random_state = 42)\n",
    "result_dt2,best_param_dt2 = GridSearchLR(DTC2,parameter,x_train2,y_train)\n",
    "#print(result_dt)\n",
    "print(best_param_dt)"
   ]
  },
  {
   "cell_type": "code",
   "execution_count": 405,
   "id": "be74f302",
   "metadata": {},
   "outputs": [
    {
     "data": {
      "image/png": "[encoded data removed]",
      "text/plain": [
       "<Figure size 432x288 with 2 Axes>"
      ]
     },
     "metadata": {
      "needs_background": "light"
     },
     "output_type": "display_data"
    }
   ],
   "source": [
    "dataset_train = result_dt2.pivot('param_max_depth', 'param_min_samples_split', 'mean_train_score')\n",
    "ax = sns.heatmap(dataset_train, annot=True)"
   ]
  },
  {
   "cell_type": "code",
   "execution_count": 406,
   "id": "ec7bde74",
   "metadata": {},
   "outputs": [
    {
     "data": {
      "image/png": "[encoded data removed]",
      "text/plain": [
       "<Figure size 432x288 with 2 Axes>"
      ]
     },
     "metadata": {
      "needs_background": "light"
     },
     "output_type": "display_data"
    }
   ],
   "source": [
    "dataset_train = result_dt2.pivot('param_max_depth', 'param_min_samples_split', 'mean_test_score')\n",
    "ax = sns.heatmap(dataset_train, annot=True)"
   ]
  },
  {
   "cell_type": "code",
   "execution_count": 407,
   "id": "4c7b2707",
   "metadata": {},
   "outputs": [
    {
     "data": {
      "image/png": "[encoded data removed]",
      "text/plain": [
       "<Figure size 432x288 with 1 Axes>"
      ]
     },
     "metadata": {
      "needs_background": "light"
     },
     "output_type": "display_data"
    }
   ],
   "source": [
    "DTC3 = DecisionTreeClassifier(max_depth= 3, min_samples_split= 50,random_state = 42)\n",
    "DTC3.fit(x_train2,y_train)\n",
    "y_train_pred_dt2 = DTC3.predict(x_train2)\n",
    "y_test_pred_dt2 = DTC3.predict(x_test2)\n",
    "plot_roc_auc_plot(y_train,y_test,y_train_pred_dt2,y_test_pred_dt2)"
   ]
  },
  {
   "cell_type": "code",
   "execution_count": 409,
   "id": "33da4e08",
   "metadata": {},
   "outputs": [
    {
     "name": "stdout",
     "output_type": "stream",
     "text": [
      "None\n"
     ]
    },
    {
     "data": {
      "image/png": "[encoded data removed]",
      "text/plain": [
       "<Figure size 432x288 with 2 Axes>"
      ]
     },
     "metadata": {
      "needs_background": "light"
     },
     "output_type": "display_data"
    }
   ],
   "source": [
    "cm_train = confusion_matrix(y_train,y_train_pred_dt2 )\n",
    "confusion_matrix_train = heatmap_confusion_matrix(cm_train)\n",
    "print(confusion_matrix_train)"
   ]
  },
  {
   "cell_type": "code",
   "execution_count": 410,
   "id": "7944994f",
   "metadata": {},
   "outputs": [
    {
     "name": "stdout",
     "output_type": "stream",
     "text": [
      "Test confusion matrix\n",
      "None\n"
     ]
    },
    {
     "data": {
      "image/png": "[encoded data removed]",
      "text/plain": [
       "<Figure size 432x288 with 2 Axes>"
      ]
     },
     "metadata": {
      "needs_background": "light"
     },
     "output_type": "display_data"
    }
   ],
   "source": [
    "print(\"Test confusion matrix\")\n",
    "cm_test = confusion_matrix(y_test, y_test_pred_dt2)\n",
    "confusion_matrix_test = heatmap_confusion_matrix(cm_test)\n",
    "print(confusion_matrix_test)"
   ]
  },
  {
   "cell_type": "markdown",
   "id": "cfe1d4c5",
   "metadata": {},
   "source": [
    "**Observation**\n",
    "<br> (1) From GridSearchCV, best hyperparameter obtained is max_depth = 3, min_sample_split = 50. At this hyperparameter, the train_auc and test_auc values are 0.971372 and 0.970199.\n",
    "<br> (2) for training set, From confusion matrix it can be seen that out of 1777 negative value total 1694 were predicted correctly and out of 13083 positive label 12945 were predicted correctly.\n",
    "<br> (3) for test set, From confusion matrix it can be seen that out of 593 negative value total 565 were predicted correctly and out of 4361 positive label 4307 were predicted correctly.\n",
    "<br> (4) Both the decision trees model perform very similar but model on 1st dataset perform slightly better."
   ]
  },
  {
   "cell_type": "markdown",
   "id": "709923fd",
   "metadata": {},
   "source": [
    "**3.Random Forest**"
   ]
  },
  {
   "cell_type": "code",
   "execution_count": 411,
   "id": "1b4d918a",
   "metadata": {},
   "outputs": [
    {
     "name": "stdout",
     "output_type": "stream",
     "text": [
      "RandomForestClassifier(max_depth=5, n_estimators=300, random_state=42)\n"
     ]
    }
   ],
   "source": [
    "parameter = {'n_estimators':[50,100,200,300], 'max_depth':[2,3,4,5,6]} \n",
    "rf2 = RandomForestClassifier(random_state=42)\n",
    "result_rf2,best_param_rf2 = GridSearchLR(rf,parameter,x_train2,y_train)\n",
    "print(best_param_rf)"
   ]
  },
  {
   "cell_type": "code",
   "execution_count": 412,
   "id": "f027c658",
   "metadata": {},
   "outputs": [
    {
     "data": {
      "image/png": "[encoded data removed]",
      "text/plain": [
       "<Figure size 432x288 with 2 Axes>"
      ]
     },
     "metadata": {
      "needs_background": "light"
     },
     "output_type": "display_data"
    }
   ],
   "source": [
    "dataset_train = result_rf2.pivot('param_max_depth', 'param_n_estimators', 'mean_train_score')\n",
    "ax = sns.heatmap(dataset_train, annot=True)"
   ]
  },
  {
   "cell_type": "code",
   "execution_count": 413,
   "id": "54c2e94c",
   "metadata": {},
   "outputs": [
    {
     "data": {
      "image/png": "[encoded data removed]",
      "text/plain": [
       "<Figure size 432x288 with 2 Axes>"
      ]
     },
     "metadata": {
      "needs_background": "light"
     },
     "output_type": "display_data"
    }
   ],
   "source": [
    "dataset_test = result_rf2.pivot('param_max_depth', 'param_n_estimators', 'mean_test_score')\n",
    "ax = sns.heatmap(dataset_test, annot=True)"
   ]
  },
  {
   "cell_type": "code",
   "execution_count": 414,
   "id": "d87233f3",
   "metadata": {},
   "outputs": [
    {
     "data": {
      "image/png": "[encoded data removed]",
      "text/plain": [
       "<Figure size 432x288 with 1 Axes>"
      ]
     },
     "metadata": {
      "needs_background": "light"
     },
     "output_type": "display_data"
    }
   ],
   "source": [
    "rf1 = RandomForestClassifier(max_depth=5, n_estimators=300, random_state=42)\n",
    "rf1.fit(x_train2,y_train)\n",
    "y_train_pred_rf2 = rf1.predict(x_train2)\n",
    "y_test_pred_rf2 = rf1.predict(x_test2)\n",
    "plot_roc_auc_plot(y_train,y_test,y_train_pred_rf2,y_test_pred_rf2)"
   ]
  },
  {
   "cell_type": "code",
   "execution_count": 415,
   "id": "e1eac891",
   "metadata": {},
   "outputs": [
    {
     "name": "stdout",
     "output_type": "stream",
     "text": [
      "None\n"
     ]
    },
    {
     "data": {
      "image/png": "[encoded data removed]",
      "text/plain": [
       "<Figure size 432x288 with 2 Axes>"
      ]
     },
     "metadata": {
      "needs_background": "light"
     },
     "output_type": "display_data"
    }
   ],
   "source": [
    "cm_train = confusion_matrix(y_train,y_train_pred_rf2 )\n",
    "confusion_matrix_train = heatmap_confusion_matrix(cm_train)\n",
    "print(confusion_matrix_train)"
   ]
  },
  {
   "cell_type": "code",
   "execution_count": 416,
   "id": "57ba8ab5",
   "metadata": {},
   "outputs": [
    {
     "name": "stdout",
     "output_type": "stream",
     "text": [
      "Test confusion matrix\n",
      "None\n"
     ]
    },
    {
     "data": {
      "image/png": "[encoded data removed]",
      "text/plain": [
       "<Figure size 432x288 with 2 Axes>"
      ]
     },
     "metadata": {
      "needs_background": "light"
     },
     "output_type": "display_data"
    }
   ],
   "source": [
    "print(\"Test confusion matrix\")\n",
    "cm_test = confusion_matrix(y_test, y_test_pred_rf2)\n",
    "confusion_matrix_test = heatmap_confusion_matrix(cm_test)\n",
    "print(confusion_matrix_test)"
   ]
  },
  {
   "cell_type": "markdown",
   "id": "81b020bb",
   "metadata": {},
   "source": [
    "**Observation**\n",
    "<br> (1) From GridSearchCV, best hyperparameter obtained is max_depth = 5, n_estimators = 300. At this hyperparameter, the train_auc and test_auc values are 0.737277 and 0.635906. The difference between train and test score is high so clearly this model is overfitting.\n",
    "<br> (2) for training set, From confusion matrix it can be seen that out of 1777 negative value total 846 were predicted correctly and out of 13083 positive label 13063 were predicted correctly.\n",
    "<br> (3) for test set, From confusion matrix it can be seen that out of 593 negative value total 162 were predicted correctly and out of 4361 positive label 4355 were predicted correctly.. \n",
    "<br> (5) It is performing better than the random forest for dataset I. for predicting positive value it is performing better than all the trained model but for predicting negative lebel it is worst model."
   ]
  },
  {
   "cell_type": "markdown",
   "id": "46d3dc7b",
   "metadata": {},
   "source": [
    "**4.Gradient boosting**"
   ]
  },
  {
   "cell_type": "code",
   "execution_count": 417,
   "id": "35efab16",
   "metadata": {},
   "outputs": [
    {
     "name": "stdout",
     "output_type": "stream",
     "text": [
      "dict_keys(['objective', 'use_label_encoder', 'base_score', 'booster', 'colsample_bylevel', 'colsample_bynode', 'colsample_bytree', 'enable_categorical', 'gamma', 'gpu_id', 'importance_type', 'interaction_constraints', 'learning_rate', 'max_delta_step', 'max_depth', 'min_child_weight', 'missing', 'monotone_constraints', 'n_estimators', 'n_jobs', 'num_parallel_tree', 'predictor', 'random_state', 'reg_alpha', 'reg_lambda', 'scale_pos_weight', 'subsample', 'tree_method', 'validate_parameters', 'verbosity'])\n",
      "[11:19:11] WARNING: C:/Users/Administrator/workspace/xgboost-win64_release_1.5.1/src/learner.cc:1115: Starting in XGBoost 1.3.0, the default evaluation metric used with the objective 'binary:logistic' was changed from 'error' to 'logloss'. Explicitly set eval_metric if you'd like to restore the old behavior.\n"
     ]
    },
    {
     "data": {
      "text/plain": [
       "GridSearchCV(cv=3,\n",
       "             estimator=XGBClassifier(base_score=None, booster=None,\n",
       "                                     colsample_bylevel=None,\n",
       "                                     colsample_bynode=None,\n",
       "                                     colsample_bytree=None,\n",
       "                                     enable_categorical=False, gamma=None,\n",
       "                                     gpu_id=None, importance_type=None,\n",
       "                                     interaction_constraints=None,\n",
       "                                     learning_rate=None, max_delta_step=None,\n",
       "                                     max_depth=None, min_child_weight=None,\n",
       "                                     missing=nan, monotone_constraints=None,\n",
       "                                     n_estimators=100, n_jobs=None,\n",
       "                                     num_parallel_tree=None, predictor=None,\n",
       "                                     random_state=None, reg_alpha=None,\n",
       "                                     reg_lambda=None, scale_pos_weight=None,\n",
       "                                     subsample=None, tree_method=None,\n",
       "                                     validate_parameters=None, verbosity=None),\n",
       "             n_jobs=-1,\n",
       "             param_grid={'learning_rate': [0.07], 'max_depth': [1, 2, 3, 4],\n",
       "                         'n_estimators': [100, 200, 300, 400]},\n",
       "             return_train_score=True, scoring='roc_auc')"
      ]
     },
     "execution_count": 417,
     "metadata": {},
     "output_type": "execute_result"
    }
   ],
   "source": [
    "## hyperparameter tuning \n",
    "parameter = {'max_depth' : [1,2, 3, 4], 'n_estimators' : [100, 200,300, 400],'learning_rate': [0.07]}\n",
    "xgbc2 = XGBClassifier()\n",
    "print(xgbc2.get_params().keys())\n",
    "GS2 = GridSearchCV(xgbc2, param_grid = parameter, cv =3, scoring ='roc_auc', n_jobs = -1, return_train_score=True)\n",
    "GS2.fit(x_train2, y_train)"
   ]
  },
  {
   "cell_type": "code",
   "execution_count": 418,
   "id": "14074ae3",
   "metadata": {},
   "outputs": [
    {
     "data": {
      "text/html": [
       "<div>\n",
       "<style scoped>\n",
       "    .dataframe tbody tr th:only-of-type {\n",
       "        vertical-align: middle;\n",
       "    }\n",
       "\n",
       "    .dataframe tbody tr th {\n",
       "        vertical-align: top;\n",
       "    }\n",
       "\n",
       "    .dataframe thead th {\n",
       "        text-align: right;\n",
       "    }\n",
       "</style>\n",
       "<table border=\"1\" class=\"dataframe\">\n",
       "  <thead>\n",
       "    <tr style=\"text-align: right;\">\n",
       "      <th></th>\n",
       "      <th>mean_fit_time</th>\n",
       "      <th>std_fit_time</th>\n",
       "      <th>mean_score_time</th>\n",
       "      <th>std_score_time</th>\n",
       "      <th>param_learning_rate</th>\n",
       "      <th>param_max_depth</th>\n",
       "      <th>param_n_estimators</th>\n",
       "      <th>params</th>\n",
       "      <th>split0_test_score</th>\n",
       "      <th>split1_test_score</th>\n",
       "      <th>split2_test_score</th>\n",
       "      <th>mean_test_score</th>\n",
       "      <th>std_test_score</th>\n",
       "      <th>rank_test_score</th>\n",
       "      <th>split0_train_score</th>\n",
       "      <th>split1_train_score</th>\n",
       "      <th>split2_train_score</th>\n",
       "      <th>mean_train_score</th>\n",
       "      <th>std_train_score</th>\n",
       "    </tr>\n",
       "  </thead>\n",
       "  <tbody>\n",
       "    <tr>\n",
       "      <th>0</th>\n",
       "      <td>12.838484</td>\n",
       "      <td>0.090056</td>\n",
       "      <td>0.068129</td>\n",
       "      <td>0.023845</td>\n",
       "      <td>0.07</td>\n",
       "      <td>1</td>\n",
       "      <td>100</td>\n",
       "      <td>{'learning_rate': 0.07, 'max_depth': 1, 'n_est...</td>\n",
       "      <td>0.986133</td>\n",
       "      <td>0.984830</td>\n",
       "      <td>0.991199</td>\n",
       "      <td>0.987387</td>\n",
       "      <td>0.002747</td>\n",
       "      <td>16</td>\n",
       "      <td>0.992017</td>\n",
       "      <td>0.992321</td>\n",
       "      <td>0.989969</td>\n",
       "      <td>0.991436</td>\n",
       "      <td>0.001044</td>\n",
       "    </tr>\n",
       "    <tr>\n",
       "      <th>1</th>\n",
       "      <td>25.065590</td>\n",
       "      <td>0.078869</td>\n",
       "      <td>0.054376</td>\n",
       "      <td>0.012360</td>\n",
       "      <td>0.07</td>\n",
       "      <td>1</td>\n",
       "      <td>200</td>\n",
       "      <td>{'learning_rate': 0.07, 'max_depth': 1, 'n_est...</td>\n",
       "      <td>0.986439</td>\n",
       "      <td>0.985805</td>\n",
       "      <td>0.991854</td>\n",
       "      <td>0.988033</td>\n",
       "      <td>0.002714</td>\n",
       "      <td>13</td>\n",
       "      <td>0.994850</td>\n",
       "      <td>0.994439</td>\n",
       "      <td>0.992489</td>\n",
       "      <td>0.993926</td>\n",
       "      <td>0.001030</td>\n",
       "    </tr>\n",
       "    <tr>\n",
       "      <th>2</th>\n",
       "      <td>38.494812</td>\n",
       "      <td>0.298482</td>\n",
       "      <td>0.051513</td>\n",
       "      <td>0.007698</td>\n",
       "      <td>0.07</td>\n",
       "      <td>1</td>\n",
       "      <td>300</td>\n",
       "      <td>{'learning_rate': 0.07, 'max_depth': 1, 'n_est...</td>\n",
       "      <td>0.985792</td>\n",
       "      <td>0.986140</td>\n",
       "      <td>0.992041</td>\n",
       "      <td>0.987991</td>\n",
       "      <td>0.002867</td>\n",
       "      <td>14</td>\n",
       "      <td>0.996060</td>\n",
       "      <td>0.995638</td>\n",
       "      <td>0.993876</td>\n",
       "      <td>0.995191</td>\n",
       "      <td>0.000946</td>\n",
       "    </tr>\n",
       "    <tr>\n",
       "      <th>3</th>\n",
       "      <td>52.027150</td>\n",
       "      <td>0.405783</td>\n",
       "      <td>0.051332</td>\n",
       "      <td>0.009526</td>\n",
       "      <td>0.07</td>\n",
       "      <td>1</td>\n",
       "      <td>400</td>\n",
       "      <td>{'learning_rate': 0.07, 'max_depth': 1, 'n_est...</td>\n",
       "      <td>0.985209</td>\n",
       "      <td>0.986249</td>\n",
       "      <td>0.992116</td>\n",
       "      <td>0.987858</td>\n",
       "      <td>0.003041</td>\n",
       "      <td>15</td>\n",
       "      <td>0.996924</td>\n",
       "      <td>0.996501</td>\n",
       "      <td>0.995024</td>\n",
       "      <td>0.996150</td>\n",
       "      <td>0.000815</td>\n",
       "    </tr>\n",
       "    <tr>\n",
       "      <th>4</th>\n",
       "      <td>21.425767</td>\n",
       "      <td>0.125343</td>\n",
       "      <td>0.039280</td>\n",
       "      <td>0.015532</td>\n",
       "      <td>0.07</td>\n",
       "      <td>2</td>\n",
       "      <td>100</td>\n",
       "      <td>{'learning_rate': 0.07, 'max_depth': 2, 'n_est...</td>\n",
       "      <td>0.986418</td>\n",
       "      <td>0.987914</td>\n",
       "      <td>0.993141</td>\n",
       "      <td>0.989158</td>\n",
       "      <td>0.002882</td>\n",
       "      <td>4</td>\n",
       "      <td>0.996582</td>\n",
       "      <td>0.996305</td>\n",
       "      <td>0.994964</td>\n",
       "      <td>0.995951</td>\n",
       "      <td>0.000707</td>\n",
       "    </tr>\n",
       "  </tbody>\n",
       "</table>\n",
       "</div>"
      ],
      "text/plain": [
       "   mean_fit_time  std_fit_time  mean_score_time  std_score_time  \\\n",
       "0      12.838484      0.090056         0.068129        0.023845   \n",
       "1      25.065590      0.078869         0.054376        0.012360   \n",
       "2      38.494812      0.298482         0.051513        0.007698   \n",
       "3      52.027150      0.405783         0.051332        0.009526   \n",
       "4      21.425767      0.125343         0.039280        0.015532   \n",
       "\n",
       "  param_learning_rate param_max_depth param_n_estimators  \\\n",
       "0                0.07               1                100   \n",
       "1                0.07               1                200   \n",
       "2                0.07               1                300   \n",
       "3                0.07               1                400   \n",
       "4                0.07               2                100   \n",
       "\n",
       "                                              params  split0_test_score  \\\n",
       "0  {'learning_rate': 0.07, 'max_depth': 1, 'n_est...           0.986133   \n",
       "1  {'learning_rate': 0.07, 'max_depth': 1, 'n_est...           0.986439   \n",
       "2  {'learning_rate': 0.07, 'max_depth': 1, 'n_est...           0.985792   \n",
       "3  {'learning_rate': 0.07, 'max_depth': 1, 'n_est...           0.985209   \n",
       "4  {'learning_rate': 0.07, 'max_depth': 2, 'n_est...           0.986418   \n",
       "\n",
       "   split1_test_score  split2_test_score  mean_test_score  std_test_score  \\\n",
       "0           0.984830           0.991199         0.987387        0.002747   \n",
       "1           0.985805           0.991854         0.988033        0.002714   \n",
       "2           0.986140           0.992041         0.987991        0.002867   \n",
       "3           0.986249           0.992116         0.987858        0.003041   \n",
       "4           0.987914           0.993141         0.989158        0.002882   \n",
       "\n",
       "   rank_test_score  split0_train_score  split1_train_score  \\\n",
       "0               16            0.992017            0.992321   \n",
       "1               13            0.994850            0.994439   \n",
       "2               14            0.996060            0.995638   \n",
       "3               15            0.996924            0.996501   \n",
       "4                4            0.996582            0.996305   \n",
       "\n",
       "   split2_train_score  mean_train_score  std_train_score  \n",
       "0            0.989969          0.991436         0.001044  \n",
       "1            0.992489          0.993926         0.001030  \n",
       "2            0.993876          0.995191         0.000946  \n",
       "3            0.995024          0.996150         0.000815  \n",
       "4            0.994964          0.995951         0.000707  "
      ]
     },
     "execution_count": 418,
     "metadata": {},
     "output_type": "execute_result"
    }
   ],
   "source": [
    "results_gbdt2 = pd.DataFrame.from_dict(GS2.cv_results_)\n",
    "results_gbdt2.head()"
   ]
  },
  {
   "cell_type": "code",
   "execution_count": 419,
   "id": "18959a93",
   "metadata": {},
   "outputs": [
    {
     "data": {
      "text/plain": [
       "Text(0.5,1,'train')"
      ]
     },
     "execution_count": 419,
     "metadata": {},
     "output_type": "execute_result"
    },
    {
     "data": {
      "image/png": "[encoded data removed]",
      "text/plain": [
       "<Figure size 432x288 with 2 Axes>"
      ]
     },
     "metadata": {
      "needs_background": "light"
     },
     "output_type": "display_data"
    }
   ],
   "source": [
    "dataset_train1 = results_gbdt2.pivot('param_max_depth', 'param_n_estimators', 'mean_train_score')\n",
    "ax = sns.heatmap(dataset_train1, annot=True)\n",
    "ax.set_title('train')"
   ]
  },
  {
   "cell_type": "code",
   "execution_count": 420,
   "id": "38104795",
   "metadata": {},
   "outputs": [
    {
     "data": {
      "text/plain": [
       "Text(0.5,1,'cv')"
      ]
     },
     "execution_count": 420,
     "metadata": {},
     "output_type": "execute_result"
    },
    {
     "data": {
      "image/png": "[encoded data removed]",
      "text/plain": [
       "<Figure size 432x288 with 2 Axes>"
      ]
     },
     "metadata": {
      "needs_background": "light"
     },
     "output_type": "display_data"
    }
   ],
   "source": [
    "dataset_test1 = results_gbdt2.pivot('param_max_depth', 'param_n_estimators', 'mean_test_score')\n",
    "ax = sns.heatmap(dataset_test1, annot=True)\n",
    "ax.set_title(\"cv\")"
   ]
  },
  {
   "cell_type": "code",
   "execution_count": 421,
   "id": "2bef39fd",
   "metadata": {},
   "outputs": [
    {
     "data": {
      "text/plain": [
       "XGBClassifier(base_score=0.5, booster='gbtree', colsample_bylevel=1,\n",
       "              colsample_bynode=1, colsample_bytree=1, enable_categorical=False,\n",
       "              gamma=0, gpu_id=-1, importance_type=None,\n",
       "              interaction_constraints='', learning_rate=0.07, max_delta_step=0,\n",
       "              max_depth=2, min_child_weight=1, missing=nan,\n",
       "              monotone_constraints='()', n_estimators=400, n_jobs=16,\n",
       "              num_parallel_tree=1, predictor='auto', random_state=0,\n",
       "              reg_alpha=0, reg_lambda=1, scale_pos_weight=1, subsample=1,\n",
       "              tree_method='exact', validate_parameters=1, verbosity=None)"
      ]
     },
     "execution_count": 421,
     "metadata": {},
     "output_type": "execute_result"
    }
   ],
   "source": [
    "GS2.best_estimator_"
   ]
  },
  {
   "cell_type": "code",
   "execution_count": 422,
   "id": "e3c2c39c",
   "metadata": {},
   "outputs": [
    {
     "name": "stdout",
     "output_type": "stream",
     "text": [
      "[11:19:59] WARNING: C:/Users/Administrator/workspace/xgboost-win64_release_1.5.1/src/learner.cc:1115: Starting in XGBoost 1.3.0, the default evaluation metric used with the objective 'binary:logistic' was changed from 'error' to 'logloss'. Explicitly set eval_metric if you'd like to restore the old behavior.\n"
     ]
    },
    {
     "data": {
      "text/plain": [
       "XGBClassifier(base_score=0.5, booster='gbtree', colsample_bylevel=1,\n",
       "              colsample_bynode=1, colsample_bytree=1, enable_categorical=False,\n",
       "              gamma=0, gpu_id=-1, importance_type=None,\n",
       "              interaction_constraints='', learning_rate=0.07, max_delta_step=0,\n",
       "              max_depth=2, min_child_weight=1, missing=nan,\n",
       "              monotone_constraints='()', n_estimators=400, n_jobs=16,\n",
       "              num_parallel_tree=1, predictor='auto', random_state=0,\n",
       "              reg_alpha=0, reg_lambda=1, scale_pos_weight=1, subsample=1,\n",
       "              tree_method='exact', validate_parameters=1, verbosity=None)"
      ]
     },
     "execution_count": 422,
     "metadata": {},
     "output_type": "execute_result"
    }
   ],
   "source": [
    "clf2 = XGBClassifier(base_score=0.5, booster='gbtree', colsample_bylevel=1,\n",
    "              colsample_bynode=1, colsample_bytree=1, enable_categorical=False,\n",
    "              gamma=0, gpu_id=-1, importance_type=None,\n",
    "              interaction_constraints='', learning_rate=0.07, max_delta_step=0,\n",
    "              max_depth=2, min_child_weight=1, \n",
    "              monotone_constraints='()', n_estimators=400, n_jobs=16,\n",
    "              num_parallel_tree=1, predictor='auto', random_state=0,\n",
    "              reg_alpha=0, reg_lambda=1, scale_pos_weight=1, subsample=1,\n",
    "              tree_method='exact', validate_parameters=1, verbosity=None)\n",
    "clf2.fit(x_train2,y_train)"
   ]
  },
  {
   "cell_type": "code",
   "execution_count": 423,
   "id": "ececc75c",
   "metadata": {},
   "outputs": [
    {
     "data": {
      "image/png": "[encoded data removed]",
      "text/plain": [
       "<Figure size 432x288 with 1 Axes>"
      ]
     },
     "metadata": {
      "needs_background": "light"
     },
     "output_type": "display_data"
    }
   ],
   "source": [
    "y_train_pred_gd2 = clf2.predict(x_train2)\n",
    "y_test_pred_gd2 =clf2.predict(x_test2)\n",
    "plot_roc_auc_plot(y_train,y_test,y_train_pred_gd2,y_test_pred_gd2)"
   ]
  },
  {
   "cell_type": "code",
   "execution_count": 424,
   "id": "af0c91c3",
   "metadata": {},
   "outputs": [
    {
     "name": "stdout",
     "output_type": "stream",
     "text": [
      "None\n"
     ]
    },
    {
     "data": {
      "image/png": "[encoded data removed]",
      "text/plain": [
       "<Figure size 432x288 with 2 Axes>"
      ]
     },
     "metadata": {
      "needs_background": "light"
     },
     "output_type": "display_data"
    }
   ],
   "source": [
    "cm_train = confusion_matrix(y_train,y_train_pred_gd2 )\n",
    "confusion_matrix_train = heatmap_confusion_matrix(cm_train)\n",
    "print(confusion_matrix_train)"
   ]
  },
  {
   "cell_type": "code",
   "execution_count": 425,
   "id": "2c8f6074",
   "metadata": {},
   "outputs": [
    {
     "name": "stdout",
     "output_type": "stream",
     "text": [
      "Test confusion matrix\n",
      "None\n"
     ]
    },
    {
     "data": {
      "image/png": "[encoded data removed]",
      "text/plain": [
       "<Figure size 432x288 with 2 Axes>"
      ]
     },
     "metadata": {
      "needs_background": "light"
     },
     "output_type": "display_data"
    }
   ],
   "source": [
    "print(\"Test confusion matrix\")\n",
    "cm_test = confusion_matrix(y_test, y_test_pred_gd2)\n",
    "confusion_matrix_test = heatmap_confusion_matrix(cm_test)\n",
    "print(confusion_matrix_test)"
   ]
  },
  {
   "cell_type": "markdown",
   "id": "a2004846",
   "metadata": {},
   "source": [
    "**observation**\n",
    "<br> (1) From GridSearchCV, best hyperparameter obtained is max_depth = 2, n_estimators = 400. At this hyperparameter, the train_auc and test_auc values are 0.976916 and 0.965059.\n",
    "<br> (2) for training set, From confusion matrix it can be seen that out of 1777 negative value total 1708 were predicted correctly and out of 13083 positive label 12987 were predicted correctly.\n",
    "<br> (3) for test set, From confusion matrix it can be seen that out of 593 negative value total 557 were predicted correctly and out of 4361 positive label 4321 were predicted correctly.\n",
    "<br> (4) xgboost for dataset I perform slightly better than this model."
   ]
  },
  {
   "cell_type": "markdown",
   "id": "917e1ff8",
   "metadata": {},
   "source": [
    "**Final Summary**"
   ]
  },
  {
   "cell_type": "code",
   "execution_count": 426,
   "id": "322da9d6",
   "metadata": {},
   "outputs": [
    {
     "name": "stdout",
     "output_type": "stream",
     "text": [
      "+-------------+---------------------+-----------+----------+\n",
      "|  vectorizer |        Model        | Train AUC | Test AUC |\n",
      "+-------------+---------------------+-----------+----------+\n",
      "|    TF-IDF   | logistic regression |  0.972112 | 0.971077 |\n",
      "|    TF-IDF   |    Decision Trees   |  0.972931 | 0.971466 |\n",
      "|    TF-IDF   |    Random Forest    |    0.5    |   0.5    |\n",
      "|    TF-IDF   |       xgboost       |  0.980033 | 0.971077 |\n",
      "| Average W2V | logistic regression |  0.971705 | 0.971805 |\n",
      "| Average W2V |    Decision Trees   |  0.971372 | 0.970199 |\n",
      "| Average W2V |    Random Forest    |  0.737277 | 0.635906 |\n",
      "| Average W2V |       xgboost       |  0.976916 | 0.965059 |\n",
      "+-------------+---------------------+-----------+----------+\n"
     ]
    }
   ],
   "source": [
    "from prettytable import PrettyTable\n",
    "\n",
    "Table = PrettyTable()\n",
    "\n",
    "Table.field_names = [\"vectorizer\", \"Model\",\"Train AUC\", \"Test AUC\"]\n",
    "Table.add_row([\"TF-IDF\", \"logistic regression\", \"0.972112\",\"0.971077\"])\n",
    "Table.add_row([\"TF-IDF\",\"Decision Trees\", \"0.972931\",\"0.971466\"])             \n",
    "Table.add_row([\"TF-IDF\", \"Random Forest\",\"0.5\", \"0.5\"])\n",
    "Table.add_row([\"TF-IDF\", \"xgboost\", \"0.980033\",\"0.971077\"])\n",
    "Table.add_row([\"Average W2V\",\"logistic regression\", \"0.971705\",\"0.971805\"])\n",
    "Table.add_row([\"Average W2V\",\"Decision Trees\", \"0.971372\",\"0.970199\"])             \n",
    "Table.add_row([\"Average W2V\", \"Random Forest\",\"0.737277\", \"0.635906\"])\n",
    "Table.add_row([\"Average W2V\", \"xgboost\",\"0.976916\", \"0.965059\"])\n",
    "\n",
    "\n",
    "print(Table)"
   ]
  },
  {
   "cell_type": "markdown",
   "id": "003601d4",
   "metadata": {},
   "source": [
    "**Conclusion:**\n",
    "<br>Apart from the Random Forest, all model perform very good and score approximately similar.\n",
    "So, Rather than going for complex model like xgboost, we can simply use logistic regression or Decision tree for any dataset.\n"
   ]
  }
 ],
 "metadata": {
  "kernelspec": {
   "display_name": "Python 3",
   "language": "python",
   "name": "python3"
  },
  "language_info": {
   "codemirror_mode": {
    "name": "ipython",
    "version": 3
   },
   "file_extension": ".py",
   "mimetype": "text/x-python",
   "name": "python",
   "nbconvert_exporter": "python",
   "pygments_lexer": "ipython3",
   "version": "3.6.13"
  }
 },
 "nbformat": 4,
 "nbformat_minor": 5
}
